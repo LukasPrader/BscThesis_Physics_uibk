{
 "cells": [
  {
   "cell_type": "code",
   "execution_count": 52,
   "metadata": {},
   "outputs": [],
   "source": [
    "#defined functions\n",
    "\n",
    "import sympy as sym\n",
    "# calcualtes the Shannon entropy for a given list of (symbolic) probabilities\n",
    "def entropy(prob_list):\n",
    "    H = 0\n",
    "    for p in prob_list:\n",
    "        H -= p*sym.log(p, 2)\n",
    "\n",
    "    return(H)\n",
    "\n",
    "\n",
    "import numpy as np\n",
    "import scipy as sp\n",
    "# calculates the plug in entropy estimate for the elements of a given input sequence\n",
    "def plugin_entropy(s):\n",
    "    \n",
    "    # calculate frequency of each unique sample value in order of appearance\n",
    "    ucount = np.unique(s, return_counts = True)[1]\n",
    "    # calculate entropy\n",
    "    H = sp.stats.entropy(ucount, base = 2)\n",
    "\n",
    "    return(H)\n",
    "\n",
    "\n",
    "import sympy as sym\n",
    "# calculates the stationary distribution of a Markov Process using its transition matrix P\n",
    "def MP_stat_dist(P): \n",
    "\n",
    "    # make symbolic if not already the case\n",
    "    P = sym.Matrix(P)\n",
    "    # take eigenvector with eigenvalue 1\n",
    "    eigenvectors = P.T.eigenvects()\n",
    "    eigenvector = [eig for eig in eigenvectors if eig[0]==1]\n",
    "    stationary_dist = eigenvector[0][2][0]\n",
    "    # normalize to probability vector\n",
    "    stationary_dist = (stationary_dist/sum(stationary_dist)).T \n",
    "\n",
    "    return(sym.simplify(stationary_dist))\n",
    "\n",
    "\n",
    "import sympy as sym\n",
    "import numpy as np\n",
    "# calculates the entropy rate of a stationary Markov Process (Cover&Thomas)\n",
    "def MP_entropy_rate(stat, P, mapping):\n",
    "    \n",
    "    # make inputs symbolic if not already\n",
    "    stat_sym = sym.Matrix(stat)\n",
    "    P_sym = sym.Matrix(P)\n",
    "\n",
    "    # map stat and P with given mapping\n",
    "    stat_mapped = stat_sym #sym.Matrix(np.zeros((stat_sym.shape[0], stat_sym.shape[1])))\n",
    "    P_mapped = sym.Matrix(np.zeros((P_sym.shape[0], P_sym.shape[1])))\n",
    "    for i in range(P_sym.shape[0]):\n",
    "        #stat_mapped[mapping[i]] += stat_sym[i]\n",
    "        for j in range(P_sym.shape[1]):\n",
    "            P_mapped[i, mapping[j]] += P_sym[i, j]\n",
    "\n",
    "    # calculate entropy rate\n",
    "    P_log = sym.matrix_multiply_elementwise(P_mapped, P_mapped.applyfunc(lambda x: sym.log(x, 2)))\n",
    "    h = sym.simplify(-np.sum(P_log.T * stat_mapped.T))\n",
    "\n",
    "    return(h.evalf())\n",
    "\n",
    "\n",
    "import sympy as sym\n",
    "import numpy as np\n",
    "import itertools\n",
    "# calculates block entropy of length block_length for MP with transition matrix P\n",
    "def MP_block_entropy(P, block_length, init_prob, mapping):\n",
    "\n",
    "    # get possible combinations of length = block_length\n",
    "    P_size = np.shape(P)[0]\n",
    "    blocks = list(itertools.product(range(P_size), repeat = block_length))\n",
    "\n",
    "    # calculate probability for each possible block\n",
    "    prob_blocks = list()\n",
    "    for block in blocks:\n",
    "        prob_block = 1\n",
    "        for l in range(block_length):\n",
    "            if l == 0:\n",
    "                prob_block *= init_prob[block[l]]\n",
    "            else:\n",
    "                prob_block *= P[block[l-1], block[l]]\n",
    "        prob_blocks.append(prob_block)\n",
    "\n",
    "    # remove blocks with invalid probabilities (p=0)\n",
    "    if 0 in prob_blocks: \n",
    "        blocks = [blocks[i] for i in range(len(blocks)) if prob_blocks[i] != 0]\n",
    "        prob_blocks = list(filter(lambda p_b: p_b != 0, prob_blocks))\n",
    "    # renormalize to have sum(prob_blocks) = 1\n",
    "    prob_blocks = [p_b / np.sum(prob_blocks) for p_b in prob_blocks]\n",
    "\n",
    "    # re-map blocks to other symbols according to the given mapping\n",
    "    blocks_mapped = [tuple(mapping[symbol] for symbol in block) for block in blocks]\n",
    "    # reduce the list, combining identical blocks and their probabilities\n",
    "    blocks_reduced = {}\n",
    "    for sequence, prob in zip(blocks_mapped, prob_blocks):\n",
    "        blocks_reduced[sequence] = blocks_reduced.get(sequence, 0) + prob\n",
    "\n",
    "    # calculate entropy\n",
    "    H = entropy(list(blocks_reduced.values()))\n",
    "        \n",
    "    return(H)"
   ]
  },
  {
   "cell_type": "markdown",
   "metadata": {},
   "source": [
    "### An information-theoretical approach to internal models in a Partially Observable Markov Decision Process"
   ]
  },
  {
   "cell_type": "markdown",
   "metadata": {},
   "source": [
    "##### Rat in a box"
   ]
  },
  {
   "cell_type": "markdown",
   "metadata": {},
   "source": [
    "<div style=\"text-align: center;\"> <img src=\"mdp_fig.png\" height=50\"> </div>  \n",
    "MDP  \n",
    "\n",
    "$p_x = \\text{probability of light turning on},\\ \\pi_{a_i},\\pi_{a_i} = \\text{agent policy to act or wait}$"
   ]
  },
  {
   "cell_type": "markdown",
   "metadata": {},
   "source": [
    "The rat can act (push the button) or wait, with reward for acting in $S_2$ "
   ]
  },
  {
   "cell_type": "markdown",
   "metadata": {},
   "source": [
    "#### How can an observer see that there is a more complex process going on?"
   ]
  },
  {
   "cell_type": "markdown",
   "metadata": {},
   "source": [
    "Measures from information theory, (Crutchfield & Feldman, 2001):  \n",
    "\n",
    "Shannon entropy for blocks of some length $L$, where each block is a sequence of $L$ consecutive observations of $s_i \\epsilon S$:\n",
    "$$ H(s^L) = -\\sum_{s_i^L \\epsilon S^L} p(s_i^L) \\log_2p(s_i^L) $$  \n",
    "\n",
    "Example for MDP, $L=1,2$:  \n",
    "\n",
    "$H(s^1) = -[p(S_0)\\log_2(S_0)+p(S_1)\\log_2(S_1)+p(S_2)\\log_2(S_2)]$  \n",
    " \n",
    "$H(s^2) = -[p(S_0S_0)\\log_2(S_0S_0)+p(S_0S_1)\\log_2(S_0S_1)+p(S_1S_0) \\log_2(S_1S_0)+p(S_1S_2)\\log_2(S_1S_2)]$"
   ]
  },
  {
   "cell_type": "markdown",
   "metadata": {},
   "source": [
    "##### How does this block entropy change for longer and longer sequences? $\\to$ entropy rate $h_\\mu$  \n",
    "\n",
    "$$ h_\\mu = \\lim_{L \\to \\infty} \\frac{H(s^L)}{L} $$"
   ]
  },
  {
   "cell_type": "markdown",
   "metadata": {},
   "source": [
    "##### How does the block entropy $H(s^L)$ converge to the entropy rate $h_\\mu$? $\\to$ excess entropy $E$"
   ]
  },
  {
   "cell_type": "markdown",
   "metadata": {},
   "source": [
    "$$ E = \\lim_{L \\to \\infty} [H(s^L) - h_{\\mu}L] $$"
   ]
  },
  {
   "cell_type": "markdown",
   "metadata": {},
   "source": [
    "<div style=\"text-align: center;\"> <img src=\"crutchfield_figs.png\" height=\"50\"> </div>\n",
    "\n",
    "Figures from (Crutchfield & Feldman, 2001). Left showing the block entropy $H(s^L)$, here $H(L)$, behaviour for increasing $L$, Right showing concept of synchronization."
   ]
  },
  {
   "cell_type": "markdown",
   "metadata": {},
   "source": [
    "##### When is an agent able to estimate the entropy rate $h_\\mu$ correctly? $\\to$ synchronization"
   ]
  },
  {
   "cell_type": "markdown",
   "metadata": {},
   "source": [
    "The agent is said to be synchronized, if block entropy scales with entropy rate, so $E + h_{\\mu}L - H(s^L) = 0$  \n",
    "The total uncertainty encountered until this synchronization is achieved is called transient information $T$"
   ]
  },
  {
   "cell_type": "markdown",
   "metadata": {},
   "source": [
    "$$ T = \\sum_{L=0}^{\\infty} E + h_{\\mu}L - H(s^L) $$"
   ]
  },
  {
   "cell_type": "markdown",
   "metadata": {},
   "source": [
    "##### So, what about the rat problem?"
   ]
  },
  {
   "cell_type": "markdown",
   "metadata": {},
   "source": [
    "(Crutchfield & Feldman, 2001) mainly looks at periodic sequences, what about a Markov Process?"
   ]
  },
  {
   "cell_type": "markdown",
   "metadata": {},
   "source": [
    "Additional definitions for MPs (Cover & Thomas, 1999):  "
   ]
  },
  {
   "cell_type": "markdown",
   "metadata": {},
   "source": [
    "Given a MP with state-transition matrix $P$, if the MP is stationary (transition probabilities do not change), then:\n",
    "$\\mu$ is the stationary distribution vector with: \n",
    "$$ \\mu = \\mu P $$ \n",
    "$\\to$ solve as a special eigenvector problem."
   ]
  },
  {
   "cell_type": "markdown",
   "metadata": {},
   "source": [
    "$\\implies$ the MP has an entropy rate given by:\n",
    "$$ h_\\mu = \\sum_{i,j} \\mu_i P_{ij} \\log_2 P_{ij} $$"
   ]
  },
  {
   "cell_type": "markdown",
   "metadata": {},
   "source": [
    "#### For the rat in the box:"
   ]
  },
  {
   "cell_type": "markdown",
   "metadata": {},
   "source": [
    "How can we model this synchronization for an observer of the system?  \n",
    "Assumption: we start to observe the system in stationarity."
   ]
  },
  {
   "cell_type": "markdown",
   "metadata": {},
   "source": [
    "##### First approach, create observation Markov processes"
   ]
  },
  {
   "cell_type": "markdown",
   "metadata": {},
   "source": [
    "<div style=\"text-align: center;\"> <img src=\"mdp_mp1_mp2_fig.png\" height=\"50\"> </div>  "
   ]
  },
  {
   "cell_type": "markdown",
   "metadata": {},
   "source": [
    "MDP"
   ]
  },
  {
   "cell_type": "code",
   "execution_count": 53,
   "metadata": {},
   "outputs": [
    {
     "data": {
      "text/latex": [
       "$\\displaystyle \\left[\\begin{matrix}\\frac{1}{- \\pi_{a1} p_{X} + 2 p_{X} + 1} & \\frac{p_{X}}{- \\pi_{a1} p_{X} + 2 p_{X} + 1} & \\frac{p_{X} \\left(\\pi_{a1} - 1\\right)}{\\pi_{a1} p_{X} - 2 p_{X} - 1}\\end{matrix}\\right]$"
      ],
      "text/plain": [
       "Matrix([[1/(-\\pi_{a1}*p_X + 2*p_X + 1), p_X/(-\\pi_{a1}*p_X + 2*p_X + 1), p_X*(\\pi_{a1} - 1)/(\\pi_{a1}*p_X - 2*p_X - 1)]])"
      ]
     },
     "execution_count": 53,
     "metadata": {},
     "output_type": "execute_result"
    }
   ],
   "source": [
    "import sympy as sym\n",
    "\n",
    "x = sym.Symbol(\"p_X\")\n",
    "a1 = sym.Symbol(\"\\pi_{a1}\")\n",
    "\n",
    "P_mdp = sym.Matrix([[1-x, x, 0], [a1, 0, 1-a1], [1, 0, 0]])\n",
    "stat_mdp = MP_stat_dist(P_mdp)\n",
    "stat_mdp_l = sym.lambdify([x, a1], stat_mdp)  # lambdify for later evaluation\n",
    "stat_mdp"
   ]
  },
  {
   "cell_type": "markdown",
   "metadata": {},
   "source": [
    "MP1"
   ]
  },
  {
   "cell_type": "code",
   "execution_count": 54,
   "metadata": {},
   "outputs": [
    {
     "data": {
      "text/latex": [
       "$\\displaystyle \\left[\\begin{matrix}\\frac{1}{- \\pi_{a1} p_{X} + 2 p_{X} + 1} & \\frac{p_{X} \\left(\\pi_{a1} - 2\\right)}{\\pi_{a1} p_{X} - 2 p_{X} - 1}\\end{matrix}\\right]$"
      ],
      "text/plain": [
       "Matrix([[1/(-\\pi_{a1}*p_X + 2*p_X + 1), p_X*(\\pi_{a1} - 2)/(\\pi_{a1}*p_X - 2*p_X - 1)]])"
      ]
     },
     "execution_count": 54,
     "metadata": {},
     "output_type": "execute_result"
    }
   ],
   "source": [
    "import sympy as sym\n",
    "\n",
    "x = sym.Symbol(\"p_X\")\n",
    "a1 = sym.Symbol(\"\\pi_{a1}\")\n",
    "\n",
    "P_mp1 = sym.Matrix([[1-x, x], [1/(2-a1), (1-a1)/(2-a1)]])\n",
    "stat_mp1 = MP_stat_dist(P_mp1)\n",
    "stat_mp1_l = sym.lambdify([x, a1], stat_mp1)  # lambdify for later evaluation\n",
    "stat_mp1"
   ]
  },
  {
   "cell_type": "markdown",
   "metadata": {},
   "source": [
    "MP2"
   ]
  },
  {
   "cell_type": "code",
   "execution_count": 55,
   "metadata": {},
   "outputs": [
    {
     "data": {
      "text/latex": [
       "$\\displaystyle \\left[\\begin{matrix}\\frac{\\pi_{a0} + \\pi_{a1} p_{X} - \\pi_{a2} p_{X} \\left(\\pi_{a1} - 1\\right)}{- \\pi_{a1} p_{X} + 2 p_{X} + 1} & \\frac{- \\pi_{a0} - 2 \\pi_{a1} p_{X} + \\pi_{a2} p_{X} \\left(\\pi_{a1} - 1\\right) + 2 p_{X} + 1}{- \\pi_{a1} p_{X} + 2 p_{X} + 1}\\end{matrix}\\right]$"
      ],
      "text/plain": [
       "Matrix([[(\\pi_{a0} + \\pi_{a1}*p_X - \\pi_{a2}*p_X*(\\pi_{a1} - 1))/(-\\pi_{a1}*p_X + 2*p_X + 1), (-\\pi_{a0} - 2*\\pi_{a1}*p_X + \\pi_{a2}*p_X*(\\pi_{a1} - 1) + 2*p_X + 1)/(-\\pi_{a1}*p_X + 2*p_X + 1)]])"
      ]
     },
     "execution_count": 55,
     "metadata": {},
     "output_type": "execute_result"
    }
   ],
   "source": [
    "import sympy as sym\n",
    "\n",
    "x = sym.Symbol(\"p_X\")\n",
    "a0 = sym.Symbol(\"\\pi_{a0}\")\n",
    "a1 = sym.Symbol(\"\\pi_{a1}\")\n",
    "a2 = sym.Symbol(\"\\pi_{a2}\")\n",
    "\n",
    "pa = stat_mdp[0]*a0 + stat_mdp[1]*a1 + stat_mdp[2]*a2\n",
    "P_mp2 = sym.Matrix([[pa, 1-pa], [pa, 1-pa]])\n",
    "\n",
    "# P_mp2 is already stationary\n",
    "stat_mp2 = sym.Matrix([[sym.simplify(pa), sym.simplify(1-pa)]])\n",
    "# lambdify for later evaluation\n",
    "stat_mp2_l = sym.lambdify([x, a0, a1, a2], stat_mp2)\n",
    "stat_mp2"
   ]
  },
  {
   "cell_type": "code",
   "execution_count": 56,
   "metadata": {},
   "outputs": [
    {
     "data": {
      "image/png": "[encoded data removed]",
      "text/plain": [
       "<Figure size 400x400 with 1 Axes>"
      ]
     },
     "metadata": {},
     "output_type": "display_data"
    }
   ],
   "source": [
    "import numpy as np\n",
    "import sympy as sym\n",
    "import scipy as sp\n",
    "import itertools\n",
    "import matplotlib.pyplot as plt\n",
    "\n",
    "vects = [stat_mdp, stat_mp1, stat_mp2]\n",
    "labels = [\"mdp\", \"mp1\", \"mp2\"]\n",
    "markers = [\"o\", \"^\", \"s\"]\n",
    "Ps = [P_mdp, P_mp1, P_mp2]\n",
    "\n",
    "plt.figure(figsize =(4,4))\n",
    "for n, vect in enumerate(vects):\n",
    "    P_s = Ps[n]\n",
    "    vars = [x, a0, a1, a2]\n",
    "    vals = [0.60, 0.5, 0.5, 0.5]\n",
    "\n",
    "    vect = vect.subs({vars[i]: vals[i] for i in range(len(vars))})\n",
    "    P_s = P_s.subs({vars[i]: vals[i] for i in range(len(vars))})\n",
    "\n",
    "    inits = [vect, vect, vect]  # init = stationary\n",
    "\n",
    "    lengths = range(1, 6)\n",
    "    mapping = {i: i for i in range(len(vect))}\n",
    "\n",
    "    ent_rate = MP_entropy_rate(vect, P_s, mapping)\n",
    "    block_ents = [MP_block_entropy(P_s, l, inits[n], mapping) for l in lengths]\n",
    "\n",
    "    plt.plot(lengths, block_ents, marker=markers[n], label=labels[n])\n",
    "\n",
    "plt.xlabel(\"Block length\")\n",
    "plt.ylabel(\"Block entropy\")\n",
    "plt.legend()\n",
    "plt.show()"
   ]
  },
  {
   "cell_type": "markdown",
   "metadata": {},
   "source": [
    "##### Second approach, treat it as a Hidden Markov Process"
   ]
  },
  {
   "cell_type": "markdown",
   "metadata": {},
   "source": [
    "<div style=\"text-align: center;\"> \n",
    "<img src=\"mdp_obs_fig.png\" height=\"50\"> \n",
    "</div> "
   ]
  },
  {
   "cell_type": "code",
   "execution_count": 57,
   "metadata": {},
   "outputs": [
    {
     "name": "stdout",
     "output_type": "stream",
     "text": [
      "mdp\n",
      "entropy rate\n",
      "analytical | discrete estimate\n",
      "0.826816102344562 | 0.573105250181697/log(2)\n",
      "[0.993268210149961/log(2), 1.56637346033166/log(2), 2.13947871051335/log(2), 2.71258396069505/log(2), 3.28568921087675/log(2)]\n",
      "obs(mdp,L)\n",
      "entropy rate\n",
      "analytical | discrete estimate\n",
      "0.826816102344562 | 0.573105250181697/log(2)\n",
      "[0.691761498852418/log(2), 1.34748487699694/log(2), 1.92059012717863/log(2), 2.49369537736033/log(2), 3.06680062754203/log(2)]\n"
     ]
    },
    {
     "data": {
      "image/png": "[encoded data removed]",
      "text/plain": [
       "<Figure size 400x400 with 1 Axes>"
      ]
     },
     "metadata": {},
     "output_type": "display_data"
    }
   ],
   "source": [
    "import numpy as np\n",
    "import sympy as sym\n",
    "import scipy as sp\n",
    "import itertools\n",
    "import matplotlib.pyplot as plt\n",
    "\n",
    "vects = [stat_mdp, stat_mdp]\n",
    "labels = [\"mdp\", \"obs(mdp,L)\"]\n",
    "markers = [\"o\", \"^\"]\n",
    "Ps = [P_mdp, P_mdp]\n",
    "mapping = [{0: 0, 1: 1, 2: 2}, {0: 0, 1: 1, 2: 1}]\n",
    "style = [\"--\", \":\"]\n",
    "\n",
    "plt.figure(figsize =(4,4))\n",
    "\n",
    "for n, vect in enumerate(vects):\n",
    "    P_s = Ps[n]\n",
    "    vars = [x, a0, a1, a2]\n",
    "    vals = [0.60, 0.5, 0.5, 0.5]\n",
    "\n",
    "    ent_rate = MP_entropy_rate(vect, P_s, mapping[n])\n",
    "    #print(sym.simplify(ent_rate))\n",
    "\n",
    "    vect = vect.subs({vars[i]: vals[i] for i in range(len(vars))})\n",
    "    P_s = P_s.subs({vars[i]: vals[i] for i in range(len(vars))})\n",
    "\n",
    "    inits = [vect, vect, vect]  # init = stationary\n",
    "\n",
    "    lengths = range(1, 6)\n",
    "\n",
    "    ent_rate = MP_entropy_rate(vect, P_s, mapping[n])\n",
    "    block_ents = [MP_block_entropy(\n",
    "        P_s, l, inits[n], mapping[n]) for l in lengths]\n",
    "\n",
    "    print(labels[n])\n",
    "    print(\"entropy rate\")\n",
    "    print(\"analytical | discrete estimate\")\n",
    "    print(ent_rate, \"|\", block_ents[-1] - block_ents[-2])\n",
    "    print(block_ents)\n",
    "\n",
    "    plt.plot(lengths, block_ents, marker=markers[n], label=labels[n])\n",
    "    # plot excess entropy estimate\n",
    "    plt.plot(np.arange(1, 6), ent_rate*np.arange(1, 6) +\n",
    "             (block_ents[-1]-ent_rate*5), color=\"grey\", ls=style[n], label=str(\"h\"+labels[n]))\n",
    "\n",
    "plt.xlabel(\"Block length\")\n",
    "plt.ylabel(\"Block entropy\")\n",
    "plt.legend()\n",
    "plt.show()"
   ]
  },
  {
   "cell_type": "code",
   "execution_count": 58,
   "metadata": {},
   "outputs": [
    {
     "name": "stdout",
     "output_type": "stream",
     "text": [
      "mdp\n",
      "entropy rate\n",
      "analytical | discrete estimate\n",
      "0.742438185145091 | 0.514618934773364/log(2)\n",
      "[1.03519929987627/log(2), 1.54981823464963/log(2), 2.064437169423/log(2), 2.57905610419636/log(2), 3.09367503896972/log(2)]\n",
      "obs(mdp,A)\n",
      "entropy rate\n",
      "analytical | discrete estimate\n",
      "0.940057780799657 | 0.685278465029803/log(2)\n",
      "[0.692511814145032/log(2), 1.38144476798026/log(2), 2.06907890375316/log(2), 2.75464303978077/log(2), 3.43992150481057/log(2)]\n"
     ]
    },
    {
     "data": {
      "image/png": "[encoded data removed]",
      "text/plain": [
       "<Figure size 400x400 with 1 Axes>"
      ]
     },
     "metadata": {},
     "output_type": "display_data"
    }
   ],
   "source": [
    "                        #AS0  WS0  AS1  WS1  WS2 (AS2 not possible, would be zero column/row)\n",
    "P_mdp_full = sym.Matrix([[a0*(1-x), (1-a0)*(1-x), a0*x, (1-a0)*x, 0], # AS0\n",
    "                         [a0*(1-x), (1-a0)*(1-x), a0*x, (1-a0)*x, 0], # WS0\n",
    "                         [a1*1, 0, 0, 0, (1-a1)*1], # AS1\n",
    "                         [a1*1, 0, 0, 0, (1-a1)*1], # WS1\n",
    "                         [a2*1, (1-a2)*1, 0, 0, 0]])# WS2 \n",
    "\n",
    "stat_mdp_full = MP_stat_dist(P_mdp_full)\n",
    "vects = [stat_mdp_full, stat_mdp_full, stat_mdp_full, stat_mdp_full]\n",
    "labels = [\"mdp_full\", \"mdp\", \"obs(mdp,L)\", \"obs(mdp,A)\"]\n",
    "markers = [\"p\", \"o\", \"^\", \"s\"]\n",
    "Ps = [P_mdp_full, P_mdp_full, P_mdp_full, P_mdp_full]\n",
    "mapping = [{0:0, 1:1, 2:2, 3:3, 4:4}, {0:0, 1:0, 2:1, 3:1, 4:2}, \n",
    "           {0:0, 1:0, 2:1, 3:1, 4:1}, {0:1, 1:0, 2:1, 3:0, 4:0}]\n",
    "cols = [\"C0\", \"C0\", \"green\", \"green\"]\n",
    "\n",
    "plt.figure(figsize =(4,4))\n",
    "\n",
    "for n in [1, 3]:\n",
    "    vect = vects[n]\n",
    "    P_s = Ps[n]\n",
    "    vars = [x, a0, a1, a2]\n",
    "    vals = [0.60, 0.5, 0.3, 0.7]\n",
    "    l_ls = [\"--\", \"--\", \"-.\", \":\"]\n",
    "\n",
    "    vect = vect.subs({vars[i]: vals[i] for i in range(len(vars))})\n",
    "    P_s = P_s.subs({vars[i]: vals[i] for i in range(len(vars))})\n",
    "\n",
    "    init = vect  # init = stationary\n",
    "\n",
    "    lengths = range(1, 6)\n",
    "\n",
    "    ent_rate = MP_entropy_rate(vect, P_s, mapping[n])\n",
    "    block_ents = [MP_block_entropy(P_s, l, init, mapping[n]) for l in lengths]\n",
    "\n",
    "    print(labels[n])\n",
    "    print(\"entropy rate\")\n",
    "    print(\"analytical | discrete estimate\")\n",
    "    print(ent_rate, \"|\", block_ents[-1] - block_ents[-2])\n",
    "    print(block_ents)\n",
    "\n",
    "    plt.plot(lengths, block_ents, color = cols[n], marker=markers[n], label=labels[n])\n",
    "    # plot excess entropy estimate\n",
    "    ent_rate_est = block_ents[-1] - block_ents[-2]\n",
    "    plt.plot(np.arange(1, 6), ent_rate*np.arange(1, 6) +\n",
    "                (block_ents[-1]-ent_rate*5), color=\"grey\", ls=l_ls[n], label=str(\"h\"+labels[n]))\n",
    "\n",
    "plt.xlabel(\"Block length\")\n",
    "plt.ylabel(\"Block entropy\")\n",
    "plt.legend()\n",
    "plt.show()"
   ]
  }
 ],
 "metadata": {
  "kernelspec": {
   "display_name": "Python 3",
   "language": "python",
   "name": "python3"
  },
  "language_info": {
   "codemirror_mode": {
    "name": "ipython",
    "version": 3
   },
   "file_extension": ".py",
   "mimetype": "text/x-python",
   "name": "python",
   "nbconvert_exporter": "python",
   "pygments_lexer": "ipython3",
   "version": "3.10.12"
  }
 },
 "nbformat": 4,
 "nbformat_minor": 2
}
