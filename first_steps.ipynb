{
 "cells": [
  {
   "cell_type": "markdown",
   "metadata": {},
   "source": [
    "Scope:\n",
    "\n",
    "This project aims to look into ways of characterizing a behavioural process with tools and parameters used in information theory.  \n",
    "This can give more insight into the nature of the process and can in turn be used to create models trying to explain behaviour following similar processes."
   ]
  },
  {
   "cell_type": "code",
   "execution_count": 43,
   "metadata": {},
   "outputs": [
    {
     "data": {
      "image/png": "[encoded data removed]",
      "text/plain": [
       "<Figure size 640x480 with 1 Axes>"
      ]
     },
     "metadata": {},
     "output_type": "display_data"
    }
   ],
   "source": [
    "import numpy as np\n",
    "import scipy as sp\n",
    "import matplotlib.pyplot as plt\n",
    "\n",
    "def usfreq(s): # calculate frequency of each unique sample value in order of appearance\n",
    "    ucount = np.unique(s, return_counts = True)[1]\n",
    "    return(ucount)\n",
    "\n",
    "\n",
    "## testing average entropy convergence  with sample length for fair coin flip\n",
    "L = 50 # max length of measurements\n",
    "N = 20 # number of repetitions to average over\n",
    "ent_res = np.zeros(L)\n",
    "for l in range(1, L):\n",
    "    for n in range(N):\n",
    "        s = np.random.binomial(1, 0.5, l+1)\n",
    "        ent_res[l] += 1/N * sp.stats.entropy(usfreq(s), base = 2)\n",
    "\n",
    "plt.plot(np.arange(1, L+1, 1), ent_res)\n",
    "plt.show()\n"
   ]
  },
  {
   "cell_type": "code",
   "execution_count": 15,
   "metadata": {},
   "outputs": [
    {
     "data": {
      "text/plain": [
       "array([ 5,  6,  7,  5,  6,  3,  4,  5,  5,  5,  5,  6,  5,  5,  3,  3,  4,\n",
       "        5,  6,  6,  5,  2,  5,  5,  2,  2,  5,  3,  7,  7,  3,  4,  3,  4,\n",
       "        1,  5,  5,  3,  4,  4,  7,  5,  7,  4,  6,  9,  5,  4,  4,  5,  7,\n",
       "        6,  7,  5,  3,  6,  4,  7,  6,  2,  6,  4,  7,  3,  6,  4,  6,  4,\n",
       "        8,  3,  4,  3,  3,  7,  5,  4,  8,  5,  3,  7,  4,  5,  4,  5,  5,\n",
       "        6,  2,  4,  4,  3,  6,  4,  5,  5,  6,  5,  7,  3,  3,  8,  5,  6,\n",
       "        7,  7,  7,  3,  5,  6,  6,  4,  5,  6,  9,  3,  9,  6,  6,  5,  3,\n",
       "        5,  5,  5,  4,  5,  7,  6,  6,  6,  5,  7,  5,  5,  5,  4,  7,  6,\n",
       "        5,  7,  8,  4,  5,  4,  7,  5,  4,  4,  5,  8,  4,  3,  7,  4,  4,\n",
       "        3,  6,  3,  6,  6,  3,  4,  6,  4,  5,  6,  5,  8,  8,  6,  7,  6,\n",
       "        3,  2,  2,  4,  6,  8,  5,  5,  5,  3,  7,  7,  3,  3,  5,  4,  4,\n",
       "        5,  5,  7,  6,  6,  9,  7,  5,  6,  8,  5,  4,  6,  7,  6,  9,  7,\n",
       "        5,  5,  4,  4,  5,  6,  3,  7,  5,  6,  6,  4,  4,  5,  4,  7,  7,\n",
       "        5,  5,  2,  7,  3,  4,  6,  4,  6,  6,  7,  2,  5,  6,  4,  6,  4,\n",
       "        3,  4,  7,  4,  5,  6,  6,  5,  6,  3,  2,  4,  3,  5,  4,  8,  3,\n",
       "        5,  4,  3,  6,  4,  5,  8,  7,  8,  2,  6,  6,  4,  6,  4,  5,  5,\n",
       "        5,  3,  6,  7,  5,  7,  8,  7,  5,  6,  3,  2,  4,  3,  7,  4, 10,\n",
       "        8,  5,  4,  6,  2,  1,  7,  6,  2,  7,  4,  5,  6,  6,  5,  5,  6,\n",
       "        3,  3,  4,  2,  5,  4,  5,  4,  5,  1,  8,  6,  5,  4,  1,  5,  4,\n",
       "        6,  7,  4,  4,  4,  5,  7,  6,  5,  5,  2,  3,  2,  4,  7,  6,  6,\n",
       "        4,  8,  5,  4,  5,  6,  6,  4,  4,  6,  5,  6,  3,  5,  7,  3,  3,\n",
       "        7,  5,  3,  6,  4,  5,  2,  7,  2,  9,  7,  5,  5,  3,  6,  3,  6,\n",
       "        5,  7,  5,  3,  4,  4,  6,  3,  4,  6,  5,  2,  2,  7,  6,  7,  2,\n",
       "        4,  5,  4,  6,  4,  4,  6,  6,  2,  4,  4,  1,  8,  2,  6,  5,  5,\n",
       "        6,  4,  5,  5,  7,  5,  5,  5,  5,  7,  5,  1,  5,  6,  5,  3,  5,\n",
       "        7,  7,  2,  6,  5,  4,  5,  6,  7,  3,  2,  4,  6,  7,  6,  7,  4,\n",
       "        6,  3,  5,  6,  3,  4,  5,  3,  1,  6,  6,  5,  4,  6,  6,  5,  2,\n",
       "        6,  6,  6,  4,  5,  8,  4,  5,  4,  3,  6,  4,  5,  5,  4,  3,  3,\n",
       "        6,  5,  5,  7,  6,  6,  5,  6,  5,  4,  3,  7,  3,  5,  4,  5,  3,\n",
       "        3,  6,  2,  5,  4,  7,  5,  8,  2,  5,  4,  8,  4,  5,  4,  4,  5,\n",
       "        3,  3,  6,  7,  8,  5,  6,  4,  5,  4,  5,  5,  3,  7,  4,  8,  8,\n",
       "        4,  3,  3,  5,  2,  6,  6,  4,  6,  5,  6,  6,  7,  5,  6,  7,  6,\n",
       "        7,  7,  1,  3,  5,  7,  3,  5,  4,  4,  5,  2,  5,  7,  5,  4,  2,\n",
       "        6,  7,  5,  6,  2,  6,  7,  3,  4,  6,  7,  6,  5,  5,  7,  6,  5,\n",
       "        6,  6,  3,  3,  3,  5,  4,  5,  4,  7,  3,  3,  5,  7,  6,  7,  5,\n",
       "        7,  9,  9,  7,  8,  3,  3,  2,  5,  6,  5,  3,  7,  5,  6,  6,  7,\n",
       "        5,  3,  4,  5,  5,  6,  6,  5,  7,  8,  7,  9,  5,  4,  4,  5,  6,\n",
       "        5,  8,  7,  4,  3,  5,  4,  4,  2,  8,  5,  3,  3,  4,  4,  4,  6,\n",
       "        5,  6,  4,  6,  5,  7,  8,  2,  1,  5,  3,  5,  7,  4,  4,  2,  5,\n",
       "        6,  7,  5,  5,  5,  6,  3,  3,  3,  5,  3,  3,  5,  5,  6,  4,  5,\n",
       "        6,  3,  6,  6,  3,  4,  4,  8,  4,  5,  4,  5,  6,  7,  3,  4,  5,\n",
       "        6,  6,  6,  8,  7,  5,  4,  4,  1,  4,  8,  5,  1,  4,  6,  5,  4,\n",
       "        6,  6,  3,  7,  4,  4,  5,  3,  5,  4,  5,  4,  5,  5,  5,  5,  5,\n",
       "        6,  4,  7,  5,  3,  8,  6,  5,  3,  6,  5,  4,  4,  2,  7,  6,  3,\n",
       "        6,  6,  4,  6,  2,  4,  3,  7,  4,  6,  6,  5,  4,  4,  2,  4,  6,\n",
       "        6,  7,  7,  4,  6,  4,  5,  5,  8,  5,  4,  5,  6,  7,  5,  4,  2,\n",
       "        3,  4,  4,  3,  6,  7,  3,  6,  3,  4,  4,  5,  8,  5,  8,  2,  6,\n",
       "        4,  6,  5,  4,  3,  6,  4,  4, 10,  7,  6,  7,  4,  7,  7,  6,  5,\n",
       "        7,  3,  5,  8,  4,  6,  8,  6,  6,  5,  5,  3,  5,  3,  5,  5,  3,\n",
       "        5,  4,  5,  7,  5,  4,  6,  6,  6,  5,  7,  2,  6,  4,  3,  7,  5,\n",
       "        5,  4,  6,  2,  6,  6,  4,  5,  4,  6,  8,  5,  4,  4,  7,  4,  6,\n",
       "        4,  5,  2,  6,  2,  2,  3,  3,  5,  6,  4,  6,  6,  5,  6,  3,  6,\n",
       "        4,  3,  5,  6,  3,  4,  4,  4,  3,  6,  4,  3,  4,  4,  5,  7,  6,\n",
       "        6,  6,  4,  5,  5,  3,  4,  5,  5,  6,  6,  1,  3,  5,  6,  5,  5,\n",
       "        4,  7,  5,  5,  6,  5,  5,  4,  4,  6,  5,  6,  5,  5,  8,  5,  6,\n",
       "        4,  4,  6,  3,  3,  6,  5,  4,  3,  4,  6,  6,  9,  2,  4,  6,  3,\n",
       "        5,  5,  2,  4,  4,  7,  7,  3,  4,  6,  5,  2,  8,  5,  4,  6,  5,\n",
       "        6,  6,  6,  4,  2,  3,  4,  5,  6,  4,  3,  4,  5,  6,  5,  5,  4,\n",
       "        4,  4,  4,  4,  4,  9,  8,  8,  3,  6,  5,  5,  6,  3])"
      ]
     },
     "execution_count": 15,
     "metadata": {},
     "output_type": "execute_result"
    }
   ],
   "source": [
    "n, p = 10, .5  # number of trials, probability of each trial\n",
    "np.random.binomial(n, p, 1000)"
   ]
  }
 ],
 "metadata": {
  "kernelspec": {
   "display_name": "Python 3",
   "language": "python",
   "name": "python3"
  },
  "language_info": {
   "codemirror_mode": {
    "name": "ipython",
    "version": 3
   },
   "file_extension": ".py",
   "mimetype": "text/x-python",
   "name": "python",
   "nbconvert_exporter": "python",
   "pygments_lexer": "ipython3",
   "version": "3.10.12"
  }
 },
 "nbformat": 4,
 "nbformat_minor": 2
}
