{
 "cells": [
  {
   "cell_type": "markdown",
   "metadata": {},
   "source": [
    "#### Scope:\n",
    "\n",
    "This project aims to look into ways of characterizing a behavioural process with tools and parameters used in information theory.  \n",
    "This can give more insight into the nature of the process and can in turn be used to create models trying to explain behaviour following similar processes."
   ]
  },
  {
   "cell_type": "markdown",
   "metadata": {},
   "source": [
    "title ideas:  \n",
    "Accuracy and comparability of partial models and their evolution/combination for a Partially Observable Markov Decision Process  \n",
    "Internal model approximation using partial observations of a Markov Decision Process  \n",
    "An information-theoretical approach to internal models in a Partially Observable Markov Decision Process"
   ]
  },
  {
   "cell_type": "markdown",
   "metadata": {},
   "source": [
    "#### Example of a coin flip:\n",
    "\n",
    "To have an easy example for how to calculate and estimate the information theoretic measures, which we want to apply to a Markov process later on, we can try them out on a coin flip.\n",
    "The general formula for Shannon entropy is as follows:\n",
    "$$ H(X) = - \\sum_{x_i \\epsilon X} p(x_i) \\log_2p(x_i). $$ \n",
    "The Shannon entropy of a coin flip can be simplified to the binary entropy formula, since there are only two possible outcomes:\n",
    "$$ H(p) = - [p \\log_2{p} + (1-p) \\log_2(1-p)]. $$ \n",
    "One can also define the Shannon entropy for blocks of some length $L$, where each block is a sequence of $L$ consecutive observations of $s_i \\epsilon S$ (cover1999elements):\n",
    "$$ H(s^L) = -\\sum_{s_i^L \\epsilon S^L} P(s_i^L) \\log_2P(s_i^L). $$ \n",
    "For a fair coin, the two possible observations each have a probability of $\\frac{1}{2}$, meaning that sequences of length $L$ will all have probabilities of $(\\frac{1}{2})^L$.\n",
    "The total entropy of a measurement of length L then equals $$H(s^L) = - \\sum_{s_i^L \\epsilon S^L} \\Bigg(\\frac{1}{2}\\Bigg)^L \\log_2\\Bigg(\\frac{1}{2}\\Bigg)^L = - 2^L \\Bigg(\\frac{1}{2}\\Bigg)^L \\log_2\\Bigg(\\frac{1}{2}\\Bigg)^L =L$$, coming from the fact that there are allways $2^L$ different combinations one can achieve from observing a coin for $L$ consecutive flips. In further mentions, this entropy will be called block entropy, since it concernes the entropy of \"blocks\" of length L.\n",
    "This implies that the entropy rate (asymptotic increase in entropy with increase in sequence length) is $$ h_{\\mu} = \\lim_{L \\to \\infty} \\frac{H(s^L)}{L} = 1 $$ (also see https://wiki.santafe.edu/images/1/1d/ComplexityLecture1D.pdf, slide 8).  \n",
    "\n",
    "With this, the excess entropy (difference between block entropy and asymptotic entropy) can be evaluated to $$E = \\lim_{L \\to \\infty} (H(s^L) - h_{\\mu}L) = \\lim_{L \\to \\infty} (L-L) = 0$$ and finally the total transient information (cumulative difference between asymptotic entropy and $H(s^L)$) $$T = \\sum_{L=0}^{\\infty} E + h_{\\mu}L - H(s^L) = \\sum_{L=0}^{\\infty} 0 = 0 .$$ \n",
    "(crutchfield2001synchronizing)\n",
    "This means that in the case of a fair coin, there is no transient information for consecutive coin flips, an agent observing the system would instantly be synchronized and able to estimate the randomness of the system correctly.\n",
    "This makes sense, since a coin flip is a binary system with distinct characteristics, implying instant synchronization.\n",
    "It is important to note, that this assumes that the agent is able to estimate the entropy of the combinations perfectly."
   ]
  },
  {
   "cell_type": "markdown",
   "metadata": {},
   "source": [
    "But what about estimating the entropy of the coin flip itself, just by observing multiple consecutive ones?\n",
    "A simple approach is to first estimate the probability $p$ of the binary outcome with the relative abundance $n_p$ in a given set of $L$ consecutive observations:\n",
    "$$ \\hat{p}_L = \\frac{n_p}{L}. $$\n",
    "This estimate can be plugged into the Shannon entropy formula, resulting in teh so called plug-in binary entropy estimator for a sequence of length L (conant1973estimation):\n",
    "\n",
    "$$\n",
    "\\hat{H}_L(p) = H(\\hat{p}_L) = -[\\frac{n_p}{L} \\log_2\\frac{n_p}{L} + (1-\\frac{n_p}{L}) \\log_2(1-\\frac{n_p}{L})],\n",
    "$$\n",
    "which converges to $H(p)$ for $L \\to \\infty$ (Law of large numbers).\n",
    "\n",
    "Since this estimation is very different to calculating the block entropy $H(s^L)$, measures like excess entropy and transient information can not be reasonably defined in the same way.\n",
    "For this estimation, \"syncronization\" as defined in (crutchfield2001synchronizing) would also be impossible, since the estimate only ever equals the true entropy in infinity."
   ]
  },
  {
   "cell_type": "markdown",
   "metadata": {},
   "source": [
    "#### Moving to a general binary system"
   ]
  },
  {
   "cell_type": "markdown",
   "metadata": {},
   "source": [
    "We can also look at a more general version of a coin flip, the biased coin flip, which can be explained in terms of a general binary system.\n",
    "We have two distinct outcomes, $1$ and $0$, which have probabilities $p$ and $1-p$.\n",
    "This system can also be explained as a Markov process:"
   ]
  },
  {
   "cell_type": "code",
   "execution_count": 1,
   "metadata": {},
   "outputs": [],
   "source": [
    "import networkx as nx\n",
    "import matplotlib.pyplot as plt\n",
    "import numpy as np\n",
    "import pygraphviz\n",
    "import os\n",
    "import pickle\n",
    "#from network_viz_functions import create_lower_diGraph, create_upper_diGraph\n",
    "#os.environ[\"R_HOME\"] = \"C:\\\\Users\\\\alexa\\\\anaconda3\\\\envs\\\\PS\\\\Lib\\\\R\"\n",
    "#import rpy2.robjects as ro\n",
    "#%load_ext rpy2.ipython"
   ]
  },
  {
   "cell_type": "code",
   "execution_count": 2,
   "metadata": {},
   "outputs": [
    {
     "data": {
      "image/svg+xml": [
       "<?xml version=\"1.0\" encoding=\"UTF-8\" standalone=\"no\"?>\n",
       "<!DOCTYPE svg PUBLIC \"-//W3C//DTD SVG 1.1//EN\"\n",
       " \"http://www.w3.org/Graphics/SVG/1.1/DTD/svg11.dtd\">\n",
       "<!-- Generated by graphviz version 2.43.0 (0)\n",
       " -->\n",
       "<!-- Pages: 1 -->\n",
       "<svg width=\"123pt\" height=\"131pt\"\n",
       " viewBox=\"0.00 0.00 122.52 131.00\" xmlns=\"http://www.w3.org/2000/svg\" xmlns:xlink=\"http://www.w3.org/1999/xlink\">\n",
       "<g id=\"graph0\" class=\"graph\" transform=\"scale(1 1) rotate(0) translate(4 127)\">\n",
       "<polygon fill=\"white\" stroke=\"transparent\" points=\"-4,4 -4,-127 118.52,-127 118.52,4 -4,4\"/>\n",
       "<!-- 1 -->\n",
       "<g id=\"node1\" class=\"node\">\n",
       "<title>1</title>\n",
       "<ellipse fill=\"grey\" stroke=\"black\" cx=\"32.52\" cy=\"-105\" rx=\"27\" ry=\"18\"/>\n",
       "<text text-anchor=\"middle\" x=\"32.52\" y=\"-101.3\" font-family=\"Times,serif\" font-size=\"14.00\">1</text>\n",
       "</g>\n",
       "<!-- 1&#45;&gt;1 -->\n",
       "<g id=\"edge1\" class=\"edge\">\n",
       "<title>1&#45;&gt;1</title>\n",
       "<path fill=\"none\" stroke=\"black\" d=\"M57.05,-112.75C68.03,-113.49 77.52,-110.91 77.52,-105 77.52,-101.03 73.24,-98.56 67.1,-97.59\"/>\n",
       "<polygon fill=\"black\" stroke=\"black\" points=\"67.17,-94.09 57.05,-97.25 66.93,-101.09 67.17,-94.09\"/>\n",
       "<text text-anchor=\"middle\" x=\"89.02\" y=\"-101.3\" font-family=\"Times,serif\" font-size=\"14.00\">p &#160;&#160;</text>\n",
       "</g>\n",
       "<!-- 0 -->\n",
       "<g id=\"node2\" class=\"node\">\n",
       "<title>0</title>\n",
       "<ellipse fill=\"grey\" stroke=\"black\" cx=\"32.52\" cy=\"-18\" rx=\"27\" ry=\"18\"/>\n",
       "<text text-anchor=\"middle\" x=\"32.52\" y=\"-14.3\" font-family=\"Times,serif\" font-size=\"14.00\">0</text>\n",
       "</g>\n",
       "<!-- 1&#45;&gt;0 -->\n",
       "<g id=\"edge2\" class=\"edge\">\n",
       "<title>1&#45;&gt;0</title>\n",
       "<path fill=\"none\" stroke=\"black\" d=\"M17.24,-90.14C11.82,-84.22 6.36,-76.87 3.52,-69 0,-59.23 4.07,-49.19 10.16,-40.69\"/>\n",
       "<polygon fill=\"black\" stroke=\"black\" points=\"13.03,-42.7 16.73,-32.77 7.65,-38.24 13.03,-42.7\"/>\n",
       "<text text-anchor=\"middle\" x=\"22.02\" y=\"-57.8\" font-family=\"Times,serif\" font-size=\"14.00\">1&#45;p &#160;&#160;</text>\n",
       "</g>\n",
       "<!-- 0&#45;&gt;1 -->\n",
       "<g id=\"edge3\" class=\"edge\">\n",
       "<title>0&#45;&gt;1</title>\n",
       "<path fill=\"none\" stroke=\"black\" d=\"M37.58,-36.07C39.85,-45.71 41.76,-57.99 40.52,-69 40.22,-71.69 39.79,-74.48 39.28,-77.26\"/>\n",
       "<polygon fill=\"black\" stroke=\"black\" points=\"35.85,-76.53 37.21,-87.04 42.7,-77.99 35.85,-76.53\"/>\n",
       "<text text-anchor=\"middle\" x=\"52.02\" y=\"-57.8\" font-family=\"Times,serif\" font-size=\"14.00\">p &#160;&#160;</text>\n",
       "</g>\n",
       "<!-- 0&#45;&gt;0 -->\n",
       "<g id=\"edge4\" class=\"edge\">\n",
       "<title>0&#45;&gt;0</title>\n",
       "<path fill=\"none\" stroke=\"black\" d=\"M57.05,-25.75C68.03,-26.49 77.52,-23.91 77.52,-18 77.52,-14.03 73.24,-11.56 67.1,-10.59\"/>\n",
       "<polygon fill=\"black\" stroke=\"black\" points=\"67.17,-7.09 57.05,-10.25 66.93,-14.09 67.17,-7.09\"/>\n",
       "<text text-anchor=\"middle\" x=\"96.02\" y=\"-14.3\" font-family=\"Times,serif\" font-size=\"14.00\">1&#45;p &#160;&#160;</text>\n",
       "</g>\n",
       "</g>\n",
       "</svg>\n"
      ],
      "text/plain": [
       "<AGraph <Swig Object of type 'Agraph_t *' at 0x7fd3e8222fd0>>"
      ]
     },
     "execution_count": 2,
     "metadata": {},
     "output_type": "execute_result"
    }
   ],
   "source": [
    "binary_graph = nx.MultiDiGraph()\n",
    "binary_graph.add_nodes_from([(\"1\", {\"fillcolor\": \"grey\", \"subset\":0}), (\"0\", {\"fillcolor\": \"grey\", \"subset\":0})])\n",
    "edges = [(\"1\", \"0\", \"1-p\"),\n",
    "         (\"0\", \"1\", \"p\"),\n",
    "         (\"1\", \"1\", \"p\"),\n",
    "         (\"0\", \"0\", \"1-p\")]\n",
    "binary_graph.add_edges_from(edges)\n",
    "labels = {(edge[0], edge[1], edge[2]):str(edge[2] + \"   \") for edge in binary_graph.edges(data = True, keys = True)}\n",
    "nx.set_edge_attributes(binary_graph, labels, \"label\")\n",
    "\n",
    "D = nx.drawing.nx_agraph.to_agraph(binary_graph)\n",
    "D.node_attr.update(style = \"filled\")\n",
    "D.layout('dot')\n",
    "\n",
    "D"
   ]
  },
  {
   "cell_type": "markdown",
   "metadata": {},
   "source": [
    "This process can now be written in terms of a transition matrix $P$:\n",
    "$P = \\begin{bmatrix} p & 1-p \\\\ p & 1-p \\end{bmatrix}$\n",
    "\n",
    "We now want to again calculate the same values we did for the fair coin.\n",
    "Since the Markov process of this binary system is stationary (probabilities do not change over time), the entropy rate is given by the expression (cover1999elements):\n",
    "$$ h_\\mu = - \\sum_{ij} \\mu_i P_{ij} \\log P_{ij}, $$\n",
    "with $\\mu$ being the stationary distribution of the transition matrix $P$.\n",
    "The stationary distribution $\\mu$ is defined as the distribution of state probabilities, to which the system described by $P$ converges in the limit of infinity. In other words, it also means that the stationary distribution does not change anymore when applying the transition matrix to it: $\\mu P = \\mu$."
   ]
  },
  {
   "cell_type": "markdown",
   "metadata": {},
   "source": [
    "Ways to compute $\\mu$ are either to look at $\\lim_{n \\to \\infty} P^n$, or to solve $\\mu P = \\mu$, an eigenvector problem.\n",
    "One property of the stationary distribution is that it does not depend on the initial state of the system, meaning that $\\lim_{n \\to \\infty} P^n$ should result in a matrix with identical rows, each row being $\\mu$.  \n",
    "\n",
    "From this, we can conclude that $P$ is already in the stationary limit for our case of the binary system, with $\\mu$ being $[p, 1-p]$.\n",
    "We can now calculate the entropy rate to be \n",
    "$$ h_\\mu = -[p*(p \\log p + (1-p) \\log (1-p)) + (1-p)*(p \\log p + (1-p) \\log (1-p))] = $$ \n",
    "$$ = -[p \\log p + (1-p) \\log (1-p)] = H(p). $$"
   ]
  },
  {
   "cell_type": "markdown",
   "metadata": {},
   "source": [
    "This implies that the entropy of a sequence from a binary system $H(s^L)$ is $L H(p)$, since $ h_\\mu = \\lim_{L \\to \\infty} \\frac{H(s^L)}{L} $.\n",
    "This means, that the excess entropy $E$ and transient information $T$ again evaluate to 0 in this case."
   ]
  },
  {
   "cell_type": "code",
   "execution_count": 3,
   "metadata": {},
   "outputs": [],
   "source": [
    "#defined functions\n",
    "\n",
    "import numpy as np\n",
    "import scipy as sp\n",
    "# calculates the plug in entropy estimate for the elements of a given input sequence\n",
    "def plugin_entropy(s):\n",
    "    \n",
    "    # calculate frequency of each unique sample value in order of appearance\n",
    "    ucount = np.unique(s, return_counts = True)[1]\n",
    "    # calculate entropy\n",
    "    H = sp.stats.entropy(ucount, base = 2)\n",
    "\n",
    "    return(H)\n",
    "\n",
    "\n",
    "import sympy as sym\n",
    "# calculates the stationary distribution of a Markov Process using its transition matrix P\n",
    "def MP_stat_dist(P): \n",
    "\n",
    "    # make symbolic if not already the case\n",
    "    P = sym.Matrix(P)\n",
    "    # take eigenvector with eigenvalue 1\n",
    "    eigenvectors = P.T.eigenvects()\n",
    "    eigenvector = [eig for eig in eigenvectors if eig[0]==1]\n",
    "    stationary_dist = eigenvector[0][2][0]\n",
    "    # normalize to probability vector\n",
    "    stationary_dist = (stationary_dist/sum(stationary_dist)).T \n",
    "\n",
    "    return(sym.simplify(stationary_dist))\n",
    "\n",
    "\n",
    "import sympy as sym\n",
    "import numpy as np\n",
    "# calculates the entropy rate of a stationary Markov Process (Cover&Thomas)\n",
    "def MP_entropy_rate(stat, P):\n",
    "\n",
    "    # make inputs symbolic if not already\n",
    "    stat_sym = sym.Matrix(stat)\n",
    "    P_sym = sym.Matrix(P)\n",
    "    # calculate entropy rate\n",
    "    P_log = sym.matrix_multiply_elementwise(P_sym, P_sym.applyfunc(lambda x: sym.log(x, 2)))\n",
    "    h = sym.simplify(-np.sum(P_log.T * stat_sym.T))\n",
    "\n",
    "    return(h.evalf())\n",
    "\n",
    "\n",
    "import sympy as sym\n",
    "import numpy as np\n",
    "import itertools\n",
    "# calculates block entropy of length block_length for MP with transition matrix P\n",
    "def MP_block_entropy(P, block_length, init_prob):\n",
    "\n",
    "    # get possible combinations of length = block_length\n",
    "    P_size = np.shape(P)[0]\n",
    "    blocks = list(itertools.product(range(P_size), repeat = block_length))\n",
    "\n",
    "    # calculate probability for each possible block\n",
    "    prob_blocks = list()\n",
    "    for block in blocks:\n",
    "        prob_block = 1\n",
    "        for l in range(block_length):\n",
    "            if l == 0:\n",
    "                prob_block *= init_prob[block[l]]\n",
    "            else:\n",
    "                prob_block *= P[block[l-1], block[l]]\n",
    "        prob_blocks.append(prob_block)\n",
    "\n",
    "    # renormalize probabilities if impossible combinations were present (p=0)\n",
    "    if 0 in prob_blocks: prob_blocks = list(filter(lambda p_b: p_b != 0, prob_blocks))\n",
    "    prob_blocks = [p_b / np.sum(prob_blocks) for p_b in prob_blocks]\n",
    "\n",
    "    # calculate entropy\n",
    "    H = 0\n",
    "    for p in prob_blocks:\n",
    "        H -= p*sym.log(p, 2)\n",
    "        \n",
    "    return(H.evalf())"
   ]
  },
  {
   "cell_type": "markdown",
   "metadata": {},
   "source": [
    "#### Observing the delayed action MDP"
   ]
  },
  {
   "cell_type": "markdown",
   "metadata": {},
   "source": [
    "The problem, which will be looked at in more detail, is a so-called \"delayed action\" experiment. One can picture an agent in a box, with a light switch, the light itself and a hatch through which a reward is given.\n",
    "This setup can be described with the following Markov Decision Process (MDP), where $P_{ai}, P_{wi}, i = {0, 1, 2}$ denote the agent's policy to act or wait in a given state and $p_X$ is the base probability for the light to turn on when currently switched off."
   ]
  },
  {
   "cell_type": "markdown",
   "metadata": {},
   "source": [
    "#### MDP"
   ]
  },
  {
   "cell_type": "code",
   "execution_count": 4,
   "metadata": {
    "tags": [
     "hide_code"
    ]
   },
   "outputs": [
    {
     "data": {
      "image/svg+xml": [
       "<?xml version=\"1.0\" encoding=\"UTF-8\" standalone=\"no\"?>\n",
       "<!DOCTYPE svg PUBLIC \"-//W3C//DTD SVG 1.1//EN\"\n",
       " \"http://www.w3.org/Graphics/SVG/1.1/DTD/svg11.dtd\">\n",
       "<!-- Generated by graphviz version 2.43.0 (0)\n",
       " -->\n",
       "<!-- Pages: 1 -->\n",
       "<svg width=\"420pt\" height=\"218pt\"\n",
       " viewBox=\"0.00 0.00 420.35 218.00\" xmlns=\"http://www.w3.org/2000/svg\" xmlns:xlink=\"http://www.w3.org/1999/xlink\">\n",
       "<g id=\"graph0\" class=\"graph\" transform=\"scale(1 1) rotate(0) translate(4 214)\">\n",
       "<polygon fill=\"white\" stroke=\"transparent\" points=\"-4,4 -4,-214 416.35,-214 416.35,4 -4,4\"/>\n",
       "<!-- S0 -->\n",
       "<g id=\"node1\" class=\"node\">\n",
       "<title>S0</title>\n",
       "<ellipse fill=\"grey\" stroke=\"black\" cx=\"204.35\" cy=\"-192\" rx=\"27\" ry=\"18\"/>\n",
       "<text text-anchor=\"middle\" x=\"204.35\" y=\"-188.3\" font-family=\"Times,serif\" font-size=\"14.00\">S0</text>\n",
       "</g>\n",
       "<!-- S0&#45;&gt;S0 -->\n",
       "<g id=\"edge1\" class=\"edge\">\n",
       "<title>S0&#45;&gt;S0</title>\n",
       "<path fill=\"none\" stroke=\"black\" d=\"M231.15,-195.93C241.13,-196.06 249.35,-194.75 249.35,-192 249.35,-190.28 246.14,-189.13 241.3,-188.53\"/>\n",
       "<polygon fill=\"black\" stroke=\"black\" points=\"241.29,-185.03 231.15,-188.07 240.98,-192.02 241.29,-185.03\"/>\n",
       "<text text-anchor=\"middle\" x=\"291.35\" y=\"-188.3\" font-family=\"Times,serif\" font-size=\"14.00\">Pw0*1&#45;pX &#160;&#160;</text>\n",
       "</g>\n",
       "<!-- S0&#45;&gt;S0 -->\n",
       "<g id=\"edge2\" class=\"edge\">\n",
       "<title>S0&#45;&gt;S0</title>\n",
       "<path fill=\"none\" stroke=\"black\" d=\"M230.05,-197.55C269.07,-201.95 333.35,-200.1 333.35,-192 333.35,-184.56 279.19,-182.39 240.12,-185.49\"/>\n",
       "<polygon fill=\"black\" stroke=\"black\" points=\"239.67,-182.02 230.05,-186.45 240.33,-188.99 239.67,-182.02\"/>\n",
       "<text text-anchor=\"middle\" x=\"372.85\" y=\"-188.3\" font-family=\"Times,serif\" font-size=\"14.00\">Pa0*1&#45;pX &#160;&#160;</text>\n",
       "</g>\n",
       "<!-- S1 -->\n",
       "<g id=\"node2\" class=\"node\">\n",
       "<title>S1</title>\n",
       "<ellipse fill=\"lightblue\" stroke=\"black\" cx=\"136.35\" cy=\"-105\" rx=\"27\" ry=\"18\"/>\n",
       "<text text-anchor=\"middle\" x=\"136.35\" y=\"-101.3\" font-family=\"Times,serif\" font-size=\"14.00\">S1</text>\n",
       "</g>\n",
       "<!-- S0&#45;&gt;S1 -->\n",
       "<g id=\"edge3\" class=\"edge\">\n",
       "<title>S0&#45;&gt;S1</title>\n",
       "<path fill=\"none\" stroke=\"black\" d=\"M177.24,-189.84C131.61,-187.25 42.55,-179.27 23.35,-156 0,-127.7 58.27,-114.9 99.53,-109.52\"/>\n",
       "<polygon fill=\"black\" stroke=\"black\" points=\"100.09,-112.98 109.6,-108.3 99.25,-106.03 100.09,-112.98\"/>\n",
       "<text text-anchor=\"middle\" x=\"58.35\" y=\"-144.8\" font-family=\"Times,serif\" font-size=\"14.00\">Pw0*pX &#160;&#160;</text>\n",
       "</g>\n",
       "<!-- S0&#45;&gt;S1 -->\n",
       "<g id=\"edge4\" class=\"edge\">\n",
       "<title>S0&#45;&gt;S1</title>\n",
       "<path fill=\"none\" stroke=\"black\" d=\"M177.88,-188.32C157.29,-184.69 130.02,-176.14 116.35,-156 110.89,-147.96 113.16,-138.21 117.79,-129.46\"/>\n",
       "<polygon fill=\"black\" stroke=\"black\" points=\"120.86,-131.15 123.23,-120.82 114.94,-127.42 120.86,-131.15\"/>\n",
       "<text text-anchor=\"middle\" x=\"149.35\" y=\"-144.8\" font-family=\"Times,serif\" font-size=\"14.00\">Pa0*pX &#160;&#160;</text>\n",
       "</g>\n",
       "<!-- S1&#45;&gt;S0 -->\n",
       "<g id=\"edge5\" class=\"edge\">\n",
       "<title>S1&#45;&gt;S0</title>\n",
       "<path fill=\"none\" stroke=\"black\" d=\"M156.11,-117.75C165.03,-123.81 175.15,-131.86 182.35,-141 187.86,-147.99 192.29,-156.57 195.69,-164.64\"/>\n",
       "<polygon fill=\"black\" stroke=\"black\" points=\"192.46,-166.01 199.32,-174.09 199,-163.5 192.46,-166.01\"/>\n",
       "<text text-anchor=\"middle\" x=\"218.35\" y=\"-144.8\" font-family=\"Times,serif\" font-size=\"14.00\">Pa1*1 &#160;&#160;</text>\n",
       "</g>\n",
       "<!-- S2 -->\n",
       "<g id=\"node3\" class=\"node\">\n",
       "<title>S2</title>\n",
       "<ellipse fill=\"lightblue\" stroke=\"black\" cx=\"275.35\" cy=\"-18\" rx=\"27\" ry=\"18\"/>\n",
       "<text text-anchor=\"middle\" x=\"275.35\" y=\"-14.3\" font-family=\"Times,serif\" font-size=\"14.00\">S2</text>\n",
       "</g>\n",
       "<!-- S1&#45;&gt;S2 -->\n",
       "<g id=\"edge6\" class=\"edge\">\n",
       "<title>S1&#45;&gt;S2</title>\n",
       "<path fill=\"none\" stroke=\"black\" d=\"M151.93,-90.2C164.45,-79.51 182.8,-64.76 200.35,-54 213.86,-45.72 229.64,-38.08 243.23,-32.07\"/>\n",
       "<polygon fill=\"black\" stroke=\"black\" points=\"244.88,-35.16 252.68,-27.99 242.11,-28.74 244.88,-35.16\"/>\n",
       "<text text-anchor=\"middle\" x=\"230.85\" y=\"-57.8\" font-family=\"Times,serif\" font-size=\"14.00\">Pw1*1 &#160;&#160;</text>\n",
       "</g>\n",
       "<!-- S2&#45;&gt;S0 -->\n",
       "<g id=\"edge7\" class=\"edge\">\n",
       "<title>S2&#45;&gt;S0</title>\n",
       "<path fill=\"none\" stroke=\"black\" d=\"M276.05,-36.42C276.36,-63.9 273.62,-118.08 250.35,-156 246.07,-162.98 239.85,-169.06 233.36,-174.11\"/>\n",
       "<polygon fill=\"black\" stroke=\"black\" points=\"231.25,-171.31 225.12,-179.95 235.3,-177.02 231.25,-171.31\"/>\n",
       "<text text-anchor=\"middle\" x=\"302.85\" y=\"-101.3\" font-family=\"Times,serif\" font-size=\"14.00\">Pw2*1 &#160;&#160;</text>\n",
       "</g>\n",
       "<!-- S2&#45;&gt;S0 -->\n",
       "<g id=\"edge8\" class=\"edge\">\n",
       "<title>S2&#45;&gt;S0</title>\n",
       "<path fill=\"none\" stroke=\"green\" d=\"M292.91,-31.87C317.56,-51.57 357.32,-90.37 337.35,-123 316.29,-157.43 271.67,-175.13 239.93,-183.72\"/>\n",
       "<polygon fill=\"green\" stroke=\"green\" points=\"238.95,-180.36 230.12,-186.2 240.67,-187.14 238.95,-180.36\"/>\n",
       "<text text-anchor=\"middle\" x=\"370.35\" y=\"-101.3\" font-family=\"Times,serif\" font-size=\"14.00\">Pa2*1 &#160;&#160;</text>\n",
       "</g>\n",
       "</g>\n",
       "</svg>\n"
      ],
      "text/plain": [
       "<AGraph <Swig Object of type 'Agraph_t *' at 0x7fd3e8221b00>>"
      ]
     },
     "execution_count": 4,
     "metadata": {},
     "output_type": "execute_result"
    }
   ],
   "source": [
    "da_graph = nx.MultiDiGraph()\n",
    "da_graph.add_nodes_from([(\"S0\", {\"fillcolor\": \"grey\", \"subset\":0}), (\"S1\", {\"fillcolor\": \"lightblue\", \"subset\":0}), (\"S2\", {\"fillcolor\": \"lightblue\", \"subset\":0})])\n",
    "edges = [(\"S0\", \"S1\", \"Pw0\", {\"p\":\"pX\"}),\n",
    "         (\"S0\", \"S0\", \"Pw0\", {\"p\":\"1-pX\"}),\n",
    "         (\"S0\", \"S1\", \"Pa0\", {\"p\":\"pX\"}),\n",
    "         (\"S0\", \"S0\", \"Pa0\", {\"p\":\"1-pX\"}),\n",
    "         (\"S1\", \"S2\", \"Pw1\", {\"p\":1}),\n",
    "         (\"S1\", \"S0\", \"Pa1\", {\"p\":1}),\n",
    "         (\"S2\", \"S0\", \"Pw2\", {\"p\":1}),\n",
    "         (\"S2\", \"S0\", \"Pa2\", {\"p\":1, \"color\": \"green\"})]\n",
    "da_graph.add_edges_from(edges)\n",
    "labels = {(edge[0], edge[1], edge[2]):str(edge[2] + \"*\" + str(edge[3][\"p\"]) + \"   \") for edge in da_graph.edges(data = True, keys = True)}\n",
    "nx.set_edge_attributes(da_graph, labels, \"label\")\n",
    "\n",
    "D = nx.drawing.nx_agraph.to_agraph(da_graph)\n",
    "D.node_attr.update(style = \"filled\")\n",
    "D.layout('dot')\n",
    "\n",
    "D"
   ]
  },
  {
   "cell_type": "markdown",
   "metadata": {},
   "source": [
    "The agent now moves through the states according to its policy, but what is the result of this?\n",
    "The state transition matrix for this MDP has the following form:\n",
    "$$\n",
    "\\begin{matrix} S_0 & S_1 & S_2 \\end{matrix} \\\\\n",
    "\\begin{matrix} S_0 \\\\  S_1  \\\\  S_2 \\end{matrix}\n",
    "\\begin{bmatrix} 1 - p_X & p_X & 0 \\\\ \\pi_{a1} & 0 & 1 - \\pi_{a1} \\\\ 1 & 0 & 0 \\end{bmatrix} = P.\n",
    "$$\n",
    "The n-step transition probability, so ending up in a specific state given the initial state, can be calculated with $P^n$, where after $P_{ij}^n$ denotes the probability to end up in state $j$ after $n$ steps, given that the initial state was $i$.\n",
    "Naturally, the question of probabilities for the states in the limit of infinity arises, which is called the stationary distribution of a Markov Process.\n",
    "For any ergodic Markov Process, there exists a stationary distribution $\\pi$ such that $\\pi P = \\pi$, meaning that the state probabilities do not change anymore for any additional transitions.  \n",
    "\n",
    "This is just a special kind of eigenvector problem, where the desired eigenvector has the eigenvalue 1 and has only positive elements, which sum to 1.\n",
    "This means that it can be found using normal methods of linear algebra.\n",
    "The stationary distribution can also be found by raising the transition matrix to a large enough power, so that the numerical values converge to $\\pi$.\n",
    "This final transition matrix in the limit would have $\\pi$ for each of its rows, also meaning that the stationary distribution is independent of the initial state of the system."
   ]
  },
  {
   "cell_type": "code",
   "execution_count": 5,
   "metadata": {},
   "outputs": [
    {
     "data": {
      "text/latex": [
       "$\\displaystyle \\left[\\begin{matrix}\\frac{1}{- \\pi_{a1} p_{X} + 2 p_{X} + 1} & \\frac{p_{X}}{- \\pi_{a1} p_{X} + 2 p_{X} + 1} & \\frac{p_{X} \\left(\\pi_{a1} - 1\\right)}{\\pi_{a1} p_{X} - 2 p_{X} - 1}\\end{matrix}\\right]$"
      ],
      "text/plain": [
       "Matrix([[1/(-\\pi_{a1}*p_X + 2*p_X + 1), p_X/(-\\pi_{a1}*p_X + 2*p_X + 1), p_X*(\\pi_{a1} - 1)/(\\pi_{a1}*p_X - 2*p_X - 1)]])"
      ]
     },
     "execution_count": 5,
     "metadata": {},
     "output_type": "execute_result"
    }
   ],
   "source": [
    "import numpy as np\n",
    "import sympy as sym\n",
    "\n",
    "x = sym.Symbol(\"p_X\")\n",
    "a1 = sym.Symbol(\"\\pi_{a1}\")\n",
    "\n",
    "P_mdp = sym.Matrix([[1-x, x, 0],[a1, 0, 1-a1], [1, 0, 0]]) \n",
    "stat_mdp = MP_stat_dist(P_mdp)\n",
    "stat_mdp_l = sym.lambdify([x, a1], stat_mdp) # lambdify for later evaluation\n",
    "stat_mdp"
   ]
  },
  {
   "cell_type": "markdown",
   "metadata": {},
   "source": [
    "This means that the limiting state probabilities are as follows:\n",
    "$$\n",
    "P_{S_0} = \\frac{1}{1 + p_X(2-\\pi_{a1})}, P_{S_1} = \\frac{p_X}{1 + p_X(2-\\pi_{a1})}, P_{S_2} = \\frac{p_X(1-\\pi_{a1})}{1 + p_X(2-\\pi_{a1})}\n",
    "$$"
   ]
  },
  {
   "cell_type": "markdown",
   "metadata": {},
   "source": [
    "If there is an observer, who can only observe the state of the light itself, so on or off, this observer will see a two state Markov Process (MP) with the following transition probabilities."
   ]
  },
  {
   "cell_type": "markdown",
   "metadata": {},
   "source": [
    "#### MP1"
   ]
  },
  {
   "cell_type": "code",
   "execution_count": 6,
   "metadata": {
    "tags": [
     "hide_code"
    ]
   },
   "outputs": [
    {
     "data": {
      "image/svg+xml": [
       "<?xml version=\"1.0\" encoding=\"UTF-8\" standalone=\"no\"?>\n",
       "<!DOCTYPE svg PUBLIC \"-//W3C//DTD SVG 1.1//EN\"\n",
       " \"http://www.w3.org/Graphics/SVG/1.1/DTD/svg11.dtd\">\n",
       "<!-- Generated by graphviz version 2.43.0 (0)\n",
       " -->\n",
       "<!-- Pages: 1 -->\n",
       "<svg width=\"507pt\" height=\"131pt\"\n",
       " viewBox=\"0.00 0.00 507.48 131.00\" xmlns=\"http://www.w3.org/2000/svg\" xmlns:xlink=\"http://www.w3.org/1999/xlink\">\n",
       "<g id=\"graph0\" class=\"graph\" transform=\"scale(1 1) rotate(0) translate(4 127)\">\n",
       "<polygon fill=\"white\" stroke=\"transparent\" points=\"-4,4 -4,-127 503.48,-127 503.48,4 -4,4\"/>\n",
       "<!-- D -->\n",
       "<g id=\"node1\" class=\"node\">\n",
       "<title>D</title>\n",
       "<ellipse fill=\"grey\" stroke=\"black\" cx=\"108.48\" cy=\"-105\" rx=\"27\" ry=\"18\"/>\n",
       "<text text-anchor=\"middle\" x=\"108.48\" y=\"-101.3\" font-family=\"Times,serif\" font-size=\"14.00\">D</text>\n",
       "</g>\n",
       "<!-- D&#45;&gt;D -->\n",
       "<g id=\"edge1\" class=\"edge\">\n",
       "<title>D&#45;&gt;D</title>\n",
       "<path fill=\"none\" stroke=\"black\" d=\"M135.28,-108.93C145.27,-109.06 153.49,-107.75 153.49,-105 153.49,-103.28 150.28,-102.13 145.43,-101.53\"/>\n",
       "<polygon fill=\"black\" stroke=\"black\" points=\"145.42,-98.03 135.28,-101.07 145.11,-105.02 145.42,-98.03\"/>\n",
       "<text text-anchor=\"middle\" x=\"195.49\" y=\"-101.3\" font-family=\"Times,serif\" font-size=\"14.00\">Pw0*1&#45;pX &#160;&#160;</text>\n",
       "</g>\n",
       "<!-- D&#45;&gt;D -->\n",
       "<g id=\"edge2\" class=\"edge\">\n",
       "<title>D&#45;&gt;D</title>\n",
       "<path fill=\"none\" stroke=\"black\" d=\"M134.18,-110.55C173.21,-114.95 237.49,-113.1 237.49,-105 237.49,-97.56 183.31,-95.39 144.25,-98.49\"/>\n",
       "<polygon fill=\"black\" stroke=\"black\" points=\"143.8,-95.02 134.18,-99.45 144.46,-101.99 143.8,-95.02\"/>\n",
       "<text text-anchor=\"middle\" x=\"276.98\" y=\"-101.3\" font-family=\"Times,serif\" font-size=\"14.00\">Pa0*1&#45;pX &#160;&#160;</text>\n",
       "</g>\n",
       "<!-- L -->\n",
       "<g id=\"node2\" class=\"node\">\n",
       "<title>L</title>\n",
       "<ellipse fill=\"lightblue\" stroke=\"black\" cx=\"108.48\" cy=\"-18\" rx=\"27\" ry=\"18\"/>\n",
       "<text text-anchor=\"middle\" x=\"108.48\" y=\"-14.3\" font-family=\"Times,serif\" font-size=\"14.00\">L</text>\n",
       "</g>\n",
       "<!-- D&#45;&gt;L -->\n",
       "<g id=\"edge3\" class=\"edge\">\n",
       "<title>D&#45;&gt;L</title>\n",
       "<path fill=\"none\" stroke=\"black\" d=\"M81.71,-101.82C60.12,-98.49 31.03,-90.1 16.48,-69 0,-45.1 39.89,-31.56 72.23,-24.75\"/>\n",
       "<polygon fill=\"black\" stroke=\"black\" points=\"73.24,-28.12 82.39,-22.78 71.9,-21.25 73.24,-28.12\"/>\n",
       "<text text-anchor=\"middle\" x=\"51.48\" y=\"-57.8\" font-family=\"Times,serif\" font-size=\"14.00\">Pw0*pX &#160;&#160;</text>\n",
       "</g>\n",
       "<!-- D&#45;&gt;L -->\n",
       "<g id=\"edge4\" class=\"edge\">\n",
       "<title>D&#45;&gt;L</title>\n",
       "<path fill=\"none\" stroke=\"black\" d=\"M108.48,-86.8C108.48,-75.16 108.48,-59.55 108.48,-46.24\"/>\n",
       "<polygon fill=\"black\" stroke=\"black\" points=\"111.98,-46.17 108.48,-36.17 104.98,-46.18 111.98,-46.17\"/>\n",
       "<text text-anchor=\"middle\" x=\"141.49\" y=\"-57.8\" font-family=\"Times,serif\" font-size=\"14.00\">Pa0*pX &#160;&#160;</text>\n",
       "</g>\n",
       "<!-- L&#45;&gt;D -->\n",
       "<g id=\"edge5\" class=\"edge\">\n",
       "<title>L&#45;&gt;D</title>\n",
       "<path fill=\"none\" stroke=\"black\" d=\"M133,-25.84C156.84,-33.85 187.81,-48.64 175.49,-69 168.22,-80.98 155.36,-89.06 142.84,-94.41\"/>\n",
       "<polygon fill=\"black\" stroke=\"black\" points=\"141.52,-91.16 133.41,-97.98 144.01,-97.7 141.52,-91.16\"/>\n",
       "<text text-anchor=\"middle\" x=\"338.48\" y=\"-57.8\" font-family=\"Times,serif\" font-size=\"14.00\">(PS1*Pa1 + PS2*(Pa2+Pw2))/(PS1+PS2)*1 &#160;&#160;</text>\n",
       "</g>\n",
       "<!-- L&#45;&gt;L -->\n",
       "<g id=\"edge6\" class=\"edge\">\n",
       "<title>L&#45;&gt;L</title>\n",
       "<path fill=\"none\" stroke=\"black\" d=\"M133.02,-25.75C143.99,-26.49 153.49,-23.91 153.49,-18 153.49,-14.03 149.2,-11.56 143.06,-10.59\"/>\n",
       "<polygon fill=\"black\" stroke=\"black\" points=\"143.13,-7.09 133.02,-10.25 142.89,-14.09 143.13,-7.09\"/>\n",
       "<text text-anchor=\"middle\" x=\"243.49\" y=\"-14.3\" font-family=\"Times,serif\" font-size=\"14.00\">PS1*Pw1/(PS1+PS2)*1 &#160;&#160;</text>\n",
       "</g>\n",
       "</g>\n",
       "</svg>\n"
      ],
      "text/plain": [
       "<AGraph <Swig Object of type 'Agraph_t *' at 0x7fd3e8246940>>"
      ]
     },
     "execution_count": 6,
     "metadata": {},
     "output_type": "execute_result"
    }
   ],
   "source": [
    "da_graph_light = nx.MultiDiGraph()\n",
    "da_graph_light.add_nodes_from([(\"D\", {\"fillcolor\": \"grey\", \"subset\":0}), (\"L\", {\"fillcolor\": \"lightblue\", \"subset\":0})])\n",
    "edges = [(\"D\", \"L\", \"Pw0\", {\"p\":\"pX\"}),\n",
    "         (\"D\", \"D\", \"Pw0\", {\"p\":\"1-pX\"}),\n",
    "         (\"D\", \"L\", \"Pa0\", {\"p\":\"pX\"}),\n",
    "         (\"D\", \"D\", \"Pa0\", {\"p\":\"1-pX\"}),\n",
    "         (\"L\", \"D\", \"(PS1*Pa1 + PS2*(Pa2+Pw2))/(PS1+PS2)\", {\"p\":1}),\n",
    "         (\"L\", \"L\", \"PS1*Pw1/(PS1+PS2)\", {\"p\":1})]\n",
    "da_graph_light.add_edges_from(edges)\n",
    "labels = {(edge[0], edge[1], edge[2]):str(edge[2] + \"*\" + str(edge[3][\"p\"]) + \"   \") for edge in da_graph_light.edges(data = True, keys = True)}\n",
    "nx.set_edge_attributes(da_graph_light, labels, \"label\")\n",
    "\n",
    "D = nx.drawing.nx_agraph.to_agraph(da_graph_light)\n",
    "D.node_attr.update(style = \"filled\")\n",
    "D.layout('dot')\n",
    "\n",
    "D"
   ]
  },
  {
   "cell_type": "markdown",
   "metadata": {},
   "source": [
    "One can now calculate the probability to observe a light- or dark-state using the limiting state probabilities from above:\n",
    "$$\n",
    "P_D = P_{S0} = \\frac{1}{1 + p_X(2-\\pi_{a1})}, P_L = P_{S1}+P_{S2} = \\frac{p_X(2-\\pi_{a1})}{1 + p_X(2-\\pi_{a1})}\n",
    "$$"
   ]
  },
  {
   "cell_type": "code",
   "execution_count": 7,
   "metadata": {
    "tags": [
     "hide_code"
    ]
   },
   "outputs": [
    {
     "data": {
      "text/latex": [
       "$\\displaystyle \\left[\\begin{matrix}\\frac{1}{- \\pi_{a1} p_{X} + 2 p_{X} + 1} & \\frac{p_{X} \\left(\\pi_{a1} - 2\\right)}{\\pi_{a1} p_{X} - 2 p_{X} - 1}\\end{matrix}\\right]$"
      ],
      "text/plain": [
       "Matrix([[1/(-\\pi_{a1}*p_X + 2*p_X + 1), p_X*(\\pi_{a1} - 2)/(\\pi_{a1}*p_X - 2*p_X - 1)]])"
      ]
     },
     "execution_count": 7,
     "metadata": {},
     "output_type": "execute_result"
    }
   ],
   "source": [
    "import sympy as sym\n",
    "\n",
    "x = sym.Symbol(\"p_X\")\n",
    "a1 = sym.Symbol(\"\\pi_{a1}\")\n",
    "\n",
    "P_mp1 = sym.Matrix([[1-x, x], [1/(2-a1), (1-a1)/(2-a1)]])\n",
    "stat_mp1 = MP_stat_dist(P_mp1)\n",
    "stat_mp1_l = sym.lambdify([x, a1], stat_mp1) # lambdify for later evaluation\n",
    "stat_mp1"
   ]
  },
  {
   "cell_type": "markdown",
   "metadata": {},
   "source": [
    "Only looking at the actions of the agent also results in a two state MP, with rather trivial transition probabilities:\n",
    "$$\n",
    "P_A = P_{S_0}\\pi_{a0} + P_{S_1}\\pi_{a1} + P_{S_2}\\pi_{a2} = \\frac{\\pi_{a0} + p_X\\pi_{a1} + p_X(1-\\pi_{a1})\\pi_{a2}}{1 + p_X(2-\\pi_{a1})}, P_W = 1- P_A\n",
    "$$"
   ]
  },
  {
   "cell_type": "code",
   "execution_count": 8,
   "metadata": {},
   "outputs": [
    {
     "data": {
      "text/latex": [
       "$\\displaystyle \\left[\\begin{matrix}\\frac{\\pi_{a0} + \\pi_{a1} p_{X} - \\pi_{a2} p_{X} \\left(\\pi_{a1} - 1\\right)}{- \\pi_{a1} p_{X} + 2 p_{X} + 1} & \\frac{- \\pi_{a0} - 2 \\pi_{a1} p_{X} + \\pi_{a2} p_{X} \\left(\\pi_{a1} - 1\\right) + 2 p_{X} + 1}{- \\pi_{a1} p_{X} + 2 p_{X} + 1}\\end{matrix}\\right]$"
      ],
      "text/plain": [
       "Matrix([[(\\pi_{a0} + \\pi_{a1}*p_X - \\pi_{a2}*p_X*(\\pi_{a1} - 1))/(-\\pi_{a1}*p_X + 2*p_X + 1), (-\\pi_{a0} - 2*\\pi_{a1}*p_X + \\pi_{a2}*p_X*(\\pi_{a1} - 1) + 2*p_X + 1)/(-\\pi_{a1}*p_X + 2*p_X + 1)]])"
      ]
     },
     "execution_count": 8,
     "metadata": {},
     "output_type": "execute_result"
    }
   ],
   "source": [
    "import sympy as sym\n",
    "\n",
    "x = sym.Symbol(\"p_X\")\n",
    "a0 = sym.Symbol(\"\\pi_{a0}\")\n",
    "a1 = sym.Symbol(\"\\pi_{a1}\")\n",
    "a2 = sym.Symbol(\"\\pi_{a2}\")\n",
    "\n",
    "pa = stat_mdp[0]*a0 + stat_mdp[1]*a1 + stat_mdp[2]*a2\n",
    "P_mp2 = sym.Matrix([[pa, 1-pa], [pa, 1-pa]])\n",
    "\n",
    "# P_mp2 is already stationary\n",
    "stat_mp2 = sym.Matrix([[sym.simplify(pa), sym.simplify(1-pa)]])\n",
    "stat_mp2_l = sym.lambdify([x, a0, a1, a2], stat_mp2) # lambdify for later evaluation\n",
    "stat_mp2"
   ]
  },
  {
   "cell_type": "markdown",
   "metadata": {},
   "source": [
    "#### MP2"
   ]
  },
  {
   "cell_type": "code",
   "execution_count": 9,
   "metadata": {
    "tags": [
     "hide_code"
    ]
   },
   "outputs": [
    {
     "data": {
      "image/svg+xml": [
       "<?xml version=\"1.0\" encoding=\"UTF-8\" standalone=\"no\"?>\n",
       "<!DOCTYPE svg PUBLIC \"-//W3C//DTD SVG 1.1//EN\"\n",
       " \"http://www.w3.org/Graphics/SVG/1.1/DTD/svg11.dtd\">\n",
       "<!-- Generated by graphviz version 2.43.0 (0)\n",
       " -->\n",
       "<!-- Pages: 1 -->\n",
       "<svg width=\"530pt\" height=\"131pt\"\n",
       " viewBox=\"0.00 0.00 529.56 131.00\" xmlns=\"http://www.w3.org/2000/svg\" xmlns:xlink=\"http://www.w3.org/1999/xlink\">\n",
       "<g id=\"graph0\" class=\"graph\" transform=\"scale(1 1) rotate(0) translate(4 127)\">\n",
       "<polygon fill=\"white\" stroke=\"transparent\" points=\"-4,4 -4,-127 525.56,-127 525.56,4 -4,4\"/>\n",
       "<!-- A -->\n",
       "<g id=\"node1\" class=\"node\">\n",
       "<title>A</title>\n",
       "<ellipse fill=\"lightgrey\" stroke=\"black\" cx=\"163.56\" cy=\"-105\" rx=\"27\" ry=\"18\"/>\n",
       "<text text-anchor=\"middle\" x=\"163.56\" y=\"-101.3\" font-family=\"Times,serif\" font-size=\"14.00\">A</text>\n",
       "</g>\n",
       "<!-- A&#45;&gt;A -->\n",
       "<g id=\"edge1\" class=\"edge\">\n",
       "<title>A&#45;&gt;A</title>\n",
       "<path fill=\"none\" stroke=\"black\" d=\"M188.09,-112.75C199.07,-113.49 208.56,-110.91 208.56,-105 208.56,-101.03 204.27,-98.56 198.13,-97.59\"/>\n",
       "<polygon fill=\"black\" stroke=\"black\" points=\"198.2,-94.09 188.09,-97.25 197.96,-101.09 198.2,-94.09\"/>\n",
       "<text text-anchor=\"middle\" x=\"327.56\" y=\"-101.3\" font-family=\"Times,serif\" font-size=\"14.00\">PS0*Pa0+PS1*Pa1+PS2*Pa2*1 &#160;&#160;</text>\n",
       "</g>\n",
       "<!-- W -->\n",
       "<g id=\"node2\" class=\"node\">\n",
       "<title>W</title>\n",
       "<ellipse fill=\"lightgrey\" stroke=\"black\" cx=\"163.56\" cy=\"-18\" rx=\"27\" ry=\"18\"/>\n",
       "<text text-anchor=\"middle\" x=\"163.56\" y=\"-14.3\" font-family=\"Times,serif\" font-size=\"14.00\">W</text>\n",
       "</g>\n",
       "<!-- A&#45;&gt;W -->\n",
       "<g id=\"edge2\" class=\"edge\">\n",
       "<title>A&#45;&gt;W</title>\n",
       "<path fill=\"none\" stroke=\"black\" d=\"M137.08,-101.01C101.41,-96.37 40.85,-86.15 27.56,-69 0,-33.45 77.26,-23.17 126.38,-20.2\"/>\n",
       "<polygon fill=\"black\" stroke=\"black\" points=\"126.59,-23.69 136.39,-19.67 126.22,-16.7 126.59,-23.69\"/>\n",
       "<text text-anchor=\"middle\" x=\"153.56\" y=\"-57.8\" font-family=\"Times,serif\" font-size=\"14.00\">PS0*Pw0+PS1*Pw1+PS2*Pw2*1 &#160;&#160;</text>\n",
       "</g>\n",
       "<!-- W&#45;&gt;A -->\n",
       "<g id=\"edge3\" class=\"edge\">\n",
       "<title>W&#45;&gt;A</title>\n",
       "<path fill=\"none\" stroke=\"black\" d=\"M190.29,-20.83C231.62,-24.7 303.88,-36.26 279.56,-69 261.62,-93.15 227.52,-101.24 200.92,-103.68\"/>\n",
       "<polygon fill=\"black\" stroke=\"black\" points=\"200.51,-100.2 190.77,-104.37 200.98,-107.18 200.51,-100.2\"/>\n",
       "<text text-anchor=\"middle\" x=\"402.56\" y=\"-57.8\" font-family=\"Times,serif\" font-size=\"14.00\">PS0*Pa0+PS1*Pa1+PS2*Pa2*1 &#160;&#160;</text>\n",
       "</g>\n",
       "<!-- W&#45;&gt;W -->\n",
       "<g id=\"edge4\" class=\"edge\">\n",
       "<title>W&#45;&gt;W</title>\n",
       "<path fill=\"none\" stroke=\"black\" d=\"M188.09,-25.75C199.07,-26.49 208.56,-23.91 208.56,-18 208.56,-14.03 204.27,-11.56 198.13,-10.59\"/>\n",
       "<polygon fill=\"black\" stroke=\"black\" points=\"198.2,-7.09 188.09,-10.25 197.96,-14.09 198.2,-7.09\"/>\n",
       "<text text-anchor=\"middle\" x=\"334.56\" y=\"-14.3\" font-family=\"Times,serif\" font-size=\"14.00\">PS0*Pw0+PS1*Pw1+PS2*Pw2*1 &#160;&#160;</text>\n",
       "</g>\n",
       "</g>\n",
       "</svg>\n"
      ],
      "text/plain": [
       "<AGraph <Swig Object of type 'Agraph_t *' at 0x7fd3ca1afbd0>>"
      ]
     },
     "execution_count": 9,
     "metadata": {},
     "output_type": "execute_result"
    }
   ],
   "source": [
    "da_graph_action = nx.MultiDiGraph()\n",
    "da_graph_action.add_nodes_from([(\"A\", {\"subset\":0}), (\"W\", {\"subset\":0})])\n",
    "edges = [(\"A\", \"A\", \"PS0*Pa0+PS1*Pa1+PS2*Pa2\", {\"p\":1}),\n",
    "         (\"A\", \"W\", \"PS0*Pw0+PS1*Pw1+PS2*Pw2\", {\"p\":1}),\n",
    "         (\"W\", \"A\", \"PS0*Pa0+PS1*Pa1+PS2*Pa2\", {\"p\":1}),\n",
    "         (\"W\", \"W\", \"PS0*Pw0+PS1*Pw1+PS2*Pw2\", {\"p\":1})]\n",
    "da_graph_action.add_edges_from(edges)\n",
    "labels = {(edge[0], edge[1], edge[2]):str(edge[2] + \"*\" + str(edge[3][\"p\"]) + \"   \") for edge in da_graph_action.edges(data = True, keys = True)}\n",
    "nx.set_edge_attributes(da_graph_action, labels, \"label\")\n",
    "\n",
    "D = nx.drawing.nx_agraph.to_agraph(da_graph_action)\n",
    "D.node_attr.update(style = \"filled\")\n",
    "D.layout('dot')\n",
    "\n",
    "D"
   ]
  },
  {
   "cell_type": "markdown",
   "metadata": {},
   "source": [
    "One can now also think about combining the two observations, so for example the observer always gets the information about the current state of the light and the action of the agent that brought it to that state.\n",
    "This will now result in a MP with four states."
   ]
  },
  {
   "cell_type": "markdown",
   "metadata": {},
   "source": [
    "#### MP3"
   ]
  },
  {
   "cell_type": "code",
   "execution_count": 10,
   "metadata": {
    "tags": [
     "hide_code"
    ]
   },
   "outputs": [
    {
     "data": {
      "image/svg+xml": [
       "<?xml version=\"1.0\" encoding=\"UTF-8\" standalone=\"no\"?>\n",
       "<!DOCTYPE svg PUBLIC \"-//W3C//DTD SVG 1.1//EN\"\n",
       " \"http://www.w3.org/Graphics/SVG/1.1/DTD/svg11.dtd\">\n",
       "<!-- Generated by graphviz version 2.43.0 (0)\n",
       " -->\n",
       "<!-- Pages: 1 -->\n",
       "<svg width=\"698pt\" height=\"305pt\"\n",
       " viewBox=\"0.00 0.00 698.41 305.00\" xmlns=\"http://www.w3.org/2000/svg\" xmlns:xlink=\"http://www.w3.org/1999/xlink\">\n",
       "<g id=\"graph0\" class=\"graph\" transform=\"scale(1 1) rotate(0) translate(4 301)\">\n",
       "<polygon fill=\"white\" stroke=\"transparent\" points=\"-4,4 -4,-301 694.41,-301 694.41,4 -4,4\"/>\n",
       "<!-- A|L -->\n",
       "<g id=\"node1\" class=\"node\">\n",
       "<title>A|L</title>\n",
       "<ellipse fill=\"lightgrey\" stroke=\"black\" cx=\"503.41\" cy=\"-279\" rx=\"27\" ry=\"18\"/>\n",
       "<text text-anchor=\"middle\" x=\"503.41\" y=\"-275.3\" font-family=\"Times,serif\" font-size=\"14.00\">A|L</text>\n",
       "</g>\n",
       "<!-- A|D -->\n",
       "<g id=\"node2\" class=\"node\">\n",
       "<title>A|D</title>\n",
       "<ellipse fill=\"lightgrey\" stroke=\"black\" cx=\"364.41\" cy=\"-192\" rx=\"27.5\" ry=\"18\"/>\n",
       "<text text-anchor=\"middle\" x=\"364.41\" y=\"-188.3\" font-family=\"Times,serif\" font-size=\"14.00\">A|D</text>\n",
       "</g>\n",
       "<!-- A|L&#45;&gt;A|D -->\n",
       "<g id=\"edge1\" class=\"edge\">\n",
       "<title>A|L&#45;&gt;A|D</title>\n",
       "<path fill=\"none\" stroke=\"black\" d=\"M476.33,-276.5C450.11,-273.69 410.72,-265.68 385.41,-243 378.56,-236.86 373.88,-228.12 370.71,-219.66\"/>\n",
       "<polygon fill=\"black\" stroke=\"black\" points=\"374.02,-218.5 367.65,-210.03 367.34,-220.62 374.02,-218.5\"/>\n",
       "<text text-anchor=\"middle\" x=\"413.41\" y=\"-231.8\" font-family=\"Times,serif\" font-size=\"14.00\">Pa1*1 &#160;&#160;</text>\n",
       "</g>\n",
       "<!-- W|L -->\n",
       "<g id=\"node3\" class=\"node\">\n",
       "<title>W|L</title>\n",
       "<ellipse fill=\"lightgrey\" stroke=\"black\" cx=\"343.41\" cy=\"-18\" rx=\"28.7\" ry=\"18\"/>\n",
       "<text text-anchor=\"middle\" x=\"343.41\" y=\"-14.3\" font-family=\"Times,serif\" font-size=\"14.00\">W|L</text>\n",
       "</g>\n",
       "<!-- A|L&#45;&gt;W|L -->\n",
       "<g id=\"edge2\" class=\"edge\">\n",
       "<title>A|L&#45;&gt;W|L</title>\n",
       "<path fill=\"none\" stroke=\"black\" d=\"M527.86,-271.06C554.8,-261.96 596.78,-243.11 615.41,-210 636.68,-172.21 637.99,-95.43 595.41,-54 565.87,-25.24 445.39,-19.82 382.32,-18.98\"/>\n",
       "<polygon fill=\"black\" stroke=\"black\" points=\"382.02,-15.48 371.98,-18.88 381.95,-22.48 382.02,-15.48\"/>\n",
       "<text text-anchor=\"middle\" x=\"659.91\" y=\"-144.8\" font-family=\"Times,serif\" font-size=\"14.00\">Pw1*1 &#160;&#160;</text>\n",
       "</g>\n",
       "<!-- A|D&#45;&gt;A|L -->\n",
       "<g id=\"edge3\" class=\"edge\">\n",
       "<title>A|D&#45;&gt;A|L</title>\n",
       "<path fill=\"none\" stroke=\"black\" d=\"M387.76,-201.81C403.44,-208.16 424.29,-217.44 441.41,-228 455.05,-236.41 469.05,-247.45 480.28,-257.02\"/>\n",
       "<polygon fill=\"black\" stroke=\"black\" points=\"478.09,-259.75 487.93,-263.67 482.68,-254.47 478.09,-259.75\"/>\n",
       "<text text-anchor=\"middle\" x=\"496.41\" y=\"-231.8\" font-family=\"Times,serif\" font-size=\"14.00\">Pa0*pX &#160;&#160;</text>\n",
       "</g>\n",
       "<!-- A|D&#45;&gt;A|D -->\n",
       "<g id=\"edge4\" class=\"edge\">\n",
       "<title>A|D&#45;&gt;A|D</title>\n",
       "<path fill=\"none\" stroke=\"black\" d=\"M389.11,-199.75C400.16,-200.49 409.71,-197.91 409.71,-192 409.71,-188.03 405.4,-185.56 399.22,-184.59\"/>\n",
       "<polygon fill=\"black\" stroke=\"black\" points=\"399.22,-181.09 389.11,-184.25 398.99,-188.08 399.22,-181.09\"/>\n",
       "<text text-anchor=\"middle\" x=\"449.21\" y=\"-188.3\" font-family=\"Times,serif\" font-size=\"14.00\">Pa0*1&#45;pX &#160;&#160;</text>\n",
       "</g>\n",
       "<!-- A|D&#45;&gt;W|L -->\n",
       "<g id=\"edge5\" class=\"edge\">\n",
       "<title>A|D&#45;&gt;W|L</title>\n",
       "<path fill=\"none\" stroke=\"black\" d=\"M349.98,-176.59C345.03,-170.71 340.08,-163.52 337.41,-156 324.53,-119.58 330.39,-74.29 336.41,-46\"/>\n",
       "<polygon fill=\"black\" stroke=\"black\" points=\"339.87,-46.57 338.68,-36.05 333.05,-45.02 339.87,-46.57\"/>\n",
       "<text text-anchor=\"middle\" x=\"365.41\" y=\"-101.3\" font-family=\"Times,serif\" font-size=\"14.00\">Pw0*pX &#160;&#160;</text>\n",
       "</g>\n",
       "<!-- W|D -->\n",
       "<g id=\"node4\" class=\"node\">\n",
       "<title>W|D</title>\n",
       "<ellipse fill=\"lightgrey\" stroke=\"black\" cx=\"450.41\" cy=\"-105\" rx=\"30.59\" ry=\"18\"/>\n",
       "<text text-anchor=\"middle\" x=\"450.41\" y=\"-101.3\" font-family=\"Times,serif\" font-size=\"14.00\">W|D</text>\n",
       "</g>\n",
       "<!-- A|D&#45;&gt;W|D -->\n",
       "<g id=\"edge6\" class=\"edge\">\n",
       "<title>A|D&#45;&gt;W|D</title>\n",
       "<path fill=\"none\" stroke=\"black\" d=\"M351.09,-176.04C343.45,-165.57 336.75,-151.61 344.41,-141 348.68,-135.1 384.47,-124.07 413.3,-115.96\"/>\n",
       "<polygon fill=\"black\" stroke=\"black\" points=\"414.44,-119.28 423.14,-113.23 412.57,-112.53 414.44,-119.28\"/>\n",
       "<text text-anchor=\"middle\" x=\"386.41\" y=\"-144.8\" font-family=\"Times,serif\" font-size=\"14.00\">Pw0*1&#45;pX &#160;&#160;</text>\n",
       "</g>\n",
       "<!-- W|L&#45;&gt;A|D -->\n",
       "<g id=\"edge7\" class=\"edge\">\n",
       "<title>W|L&#45;&gt;A|D</title>\n",
       "<path fill=\"none\" stroke=\"black\" d=\"M314.88,-19.67C231.79,-22.61 0,-38.41 67.42,-123 99.54,-163.32 254.92,-181.66 327.24,-188.12\"/>\n",
       "<polygon fill=\"black\" stroke=\"black\" points=\"327.02,-191.61 337.28,-188.99 327.62,-184.64 327.02,-191.61\"/>\n",
       "<text text-anchor=\"middle\" x=\"196.91\" y=\"-101.3\" font-family=\"Times,serif\" font-size=\"14.00\">(PS1*Pa1+PS2*Pa2)/(PS1+PS2)*1 &#160;&#160;</text>\n",
       "</g>\n",
       "<!-- W|L&#45;&gt;W|L -->\n",
       "<g id=\"edge8\" class=\"edge\">\n",
       "<title>W|L&#45;&gt;W|L</title>\n",
       "<path fill=\"none\" stroke=\"black\" d=\"M369.29,-25.78C380.45,-26.42 390.01,-23.82 390.01,-18 390.01,-14.09 385.7,-11.63 379.48,-10.64\"/>\n",
       "<polygon fill=\"black\" stroke=\"black\" points=\"379.43,-7.13 369.29,-10.22 379.14,-14.13 379.43,-7.13\"/>\n",
       "<text text-anchor=\"middle\" x=\"476.51\" y=\"-14.3\" font-family=\"Times,serif\" font-size=\"14.00\">PS1Pw1/(PS1+PS2)*1 &#160;&#160;</text>\n",
       "</g>\n",
       "<!-- W|L&#45;&gt;W|D -->\n",
       "<g id=\"edge9\" class=\"edge\">\n",
       "<title>W|L&#45;&gt;W|D</title>\n",
       "<path fill=\"none\" stroke=\"black\" d=\"M339.17,-35.87C337.55,-46.38 337.5,-59.64 344.41,-69 348.74,-74.86 384.52,-85.9 413.33,-94.02\"/>\n",
       "<polygon fill=\"black\" stroke=\"black\" points=\"412.59,-97.45 423.16,-96.76 414.47,-90.7 412.59,-97.45\"/>\n",
       "<text text-anchor=\"middle\" x=\"430.91\" y=\"-57.8\" font-family=\"Times,serif\" font-size=\"14.00\">PS2Pw2/(PS1+PS2)*1 &#160;&#160;</text>\n",
       "</g>\n",
       "<!-- W|D&#45;&gt;A|L -->\n",
       "<g id=\"edge10\" class=\"edge\">\n",
       "<title>W|D&#45;&gt;A|L</title>\n",
       "<path fill=\"none\" stroke=\"black\" d=\"M478.46,-112.41C494.01,-117.48 512.22,-126.25 522.41,-141 565.1,-202.72 539.68,-215.82 530.41,-243 528.93,-247.37 526.65,-251.61 524.03,-255.56\"/>\n",
       "<polygon fill=\"black\" stroke=\"black\" points=\"521.17,-253.54 517.94,-263.63 526.76,-257.76 521.17,-253.54\"/>\n",
       "<text text-anchor=\"middle\" x=\"578.41\" y=\"-188.3\" font-family=\"Times,serif\" font-size=\"14.00\">Pa0*pX &#160;&#160;</text>\n",
       "</g>\n",
       "<!-- W|D&#45;&gt;A|D -->\n",
       "<g id=\"edge11\" class=\"edge\">\n",
       "<title>W|D&#45;&gt;A|D</title>\n",
       "<path fill=\"none\" stroke=\"black\" d=\"M446.04,-122.86C442.63,-133.38 437.01,-146.64 428.41,-156 419.87,-165.31 408.27,-172.68 397.28,-178.21\"/>\n",
       "<polygon fill=\"black\" stroke=\"black\" points=\"395.47,-175.19 387.88,-182.59 398.42,-181.54 395.47,-175.19\"/>\n",
       "<text text-anchor=\"middle\" x=\"478.91\" y=\"-144.8\" font-family=\"Times,serif\" font-size=\"14.00\">Pa0*1&#45;pX &#160;&#160;</text>\n",
       "</g>\n",
       "<!-- W|D&#45;&gt;W|L -->\n",
       "<g id=\"edge12\" class=\"edge\">\n",
       "<title>W|D&#45;&gt;W|L</title>\n",
       "<path fill=\"none\" stroke=\"black\" d=\"M477.36,-95.92C501.9,-87.19 532.22,-72.08 517.41,-54 500.66,-33.54 428.16,-24.78 382.2,-21.23\"/>\n",
       "<polygon fill=\"black\" stroke=\"black\" points=\"382.21,-17.72 371.98,-20.5 381.7,-24.71 382.21,-17.72\"/>\n",
       "<text text-anchor=\"middle\" x=\"556.41\" y=\"-57.8\" font-family=\"Times,serif\" font-size=\"14.00\">Pw0*pX &#160;&#160;</text>\n",
       "</g>\n",
       "<!-- W|D&#45;&gt;W|D -->\n",
       "<g id=\"edge13\" class=\"edge\">\n",
       "<title>W|D&#45;&gt;W|D</title>\n",
       "<path fill=\"none\" stroke=\"black\" d=\"M478.35,-112.83C489.56,-113.27 498.96,-110.66 498.96,-105 498.96,-101.2 494.72,-98.77 488.53,-97.72\"/>\n",
       "<polygon fill=\"black\" stroke=\"black\" points=\"488.53,-94.22 478.35,-97.17 488.15,-101.21 488.53,-94.22\"/>\n",
       "<text text-anchor=\"middle\" x=\"540.96\" y=\"-101.3\" font-family=\"Times,serif\" font-size=\"14.00\">Pw0*1&#45;pX &#160;&#160;</text>\n",
       "</g>\n",
       "</g>\n",
       "</svg>\n"
      ],
      "text/plain": [
       "<AGraph <Swig Object of type 'Agraph_t *' at 0x7fd42053fc60>>"
      ]
     },
     "execution_count": 10,
     "metadata": {},
     "output_type": "execute_result"
    }
   ],
   "source": [
    "da_graph_combined = nx.MultiDiGraph()\n",
    "da_graph_combined.add_nodes_from([(\"A|L\", {\"subset\":0}), (\"A|D\", {\"subset\":0}), (\"W|L\", {\"subset\":0}), (\"W|D\", {\"subset\":0})])\n",
    "edges = [#(\"A|L\", \"A|L\", \"0\", {\"p\":1}),\n",
    "         (\"A|L\", \"A|D\", \"Pa1\", {\"p\":1}),\n",
    "         (\"A|L\", \"W|L\", \"Pw1\", {\"p\":1}),\n",
    "         #(\"A|L\", \"W|D\", \"0\", {\"p\":1}),\n",
    "         (\"A|D\", \"A|L\", \"Pa0\", {\"p\":\"pX\"}),\n",
    "         (\"A|D\", \"A|D\", \"Pa0\", {\"p\":\"1-pX\"}),\n",
    "         (\"A|D\", \"W|L\", \"Pw0\", {\"p\":\"pX\"}),\n",
    "         (\"A|D\", \"W|D\", \"Pw0\", {\"p\":\"1-pX\"}),\n",
    "         #(\"W|L\", \"A|L\", \"0\", {\"p\":1}),\n",
    "         (\"W|L\", \"A|D\", \"(PS1*Pa1+PS2*Pa2)/(PS1+PS2)\", {\"p\":1}),\n",
    "         (\"W|L\", \"W|L\", \"PS1Pw1/(PS1+PS2)\", {\"p\":1}),\n",
    "         (\"W|L\", \"W|D\", \"PS2Pw2/(PS1+PS2)\", {\"p\":1}),\n",
    "         (\"W|D\", \"A|L\", \"Pa0\", {\"p\":\"pX\"}),\n",
    "         (\"W|D\", \"A|D\", \"Pa0\", {\"p\":\"1-pX\"}),\n",
    "         (\"W|D\", \"W|L\", \"Pw0\", {\"p\":\"pX\"}),\n",
    "         (\"W|D\", \"W|D\", \"Pw0\", {\"p\":\"1-pX\"})]\n",
    "da_graph_combined.add_edges_from(edges)\n",
    "labels = {(edge[0], edge[1], edge[2]):str(edge[2] + \"*\" + str(edge[3][\"p\"]) + \"   \") for edge in da_graph_combined.edges(data = True, keys = True)}\n",
    "nx.set_edge_attributes(da_graph_combined, labels, \"label\")\n",
    "\n",
    "D = nx.drawing.nx_agraph.to_agraph(da_graph_combined)\n",
    "D.node_attr.update(style = \"filled\")\n",
    "D.layout('dot')\n",
    "\n",
    "D"
   ]
  },
  {
   "cell_type": "code",
   "execution_count": 11,
   "metadata": {},
   "outputs": [
    {
     "data": {
      "text/latex": [
       "$\\displaystyle \\left[\\begin{matrix}\\frac{\\pi_{a0} p_{X}}{\\pi_{a0} \\pi_{a1}^{2} p_{X} - 2 \\pi_{a0} \\pi_{a1} p_{X} + \\pi_{a0} p_{X} - \\pi_{a1} p_{X} + 2 p_{X} + 1} & \\frac{\\pi_{a0} \\pi_{a1}^{2} \\pi_{a2} p_{X} - \\pi_{a0} \\pi_{a1}^{2} p_{X} - \\pi_{a0} \\pi_{a1} \\pi_{a2} p_{X} + \\pi_{a0} \\pi_{a1} p_{X} - \\pi_{a0} p_{X} + \\pi_{a0} - \\pi_{a1} \\pi_{a2} p_{X} + \\pi_{a1} p_{X} + \\pi_{a2} p_{X}}{\\pi_{a0} \\pi_{a1}^{2} p_{X} - 2 \\pi_{a0} \\pi_{a1} p_{X} + \\pi_{a0} p_{X} - \\pi_{a1} p_{X} + 2 p_{X} + 1} & \\frac{p_{X} \\left(\\pi_{a0} \\pi_{a1}^{2} - 2 \\pi_{a0} \\pi_{a1} - \\pi_{a1} + 2\\right)}{\\pi_{a0} \\pi_{a1}^{2} p_{X} - 2 \\pi_{a0} \\pi_{a1} p_{X} + \\pi_{a0} p_{X} - \\pi_{a1} p_{X} + 2 p_{X} + 1} & \\frac{- \\pi_{a0} \\pi_{a1}^{2} \\pi_{a2} p_{X} + \\pi_{a0} \\pi_{a1}^{2} p_{X} + \\pi_{a0} \\pi_{a1} \\pi_{a2} p_{X} - \\pi_{a0} \\pi_{a1} p_{X} + \\pi_{a0} p_{X} - \\pi_{a0} + \\pi_{a1} \\pi_{a2} p_{X} - \\pi_{a1} p_{X} - \\pi_{a2} p_{X} + 1}{\\pi_{a0} \\pi_{a1}^{2} p_{X} - 2 \\pi_{a0} \\pi_{a1} p_{X} + \\pi_{a0} p_{X} - \\pi_{a1} p_{X} + 2 p_{X} + 1}\\end{matrix}\\right]$"
      ],
      "text/plain": [
       "Matrix([[\\pi_{a0}*p_X/(\\pi_{a0}*\\pi_{a1}**2*p_X - 2*\\pi_{a0}*\\pi_{a1}*p_X + \\pi_{a0}*p_X - \\pi_{a1}*p_X + 2*p_X + 1), (\\pi_{a0}*\\pi_{a1}**2*\\pi_{a2}*p_X - \\pi_{a0}*\\pi_{a1}**2*p_X - \\pi_{a0}*\\pi_{a1}*\\pi_{a2}*p_X + \\pi_{a0}*\\pi_{a1}*p_X - \\pi_{a0}*p_X + \\pi_{a0} - \\pi_{a1}*\\pi_{a2}*p_X + \\pi_{a1}*p_X + \\pi_{a2}*p_X)/(\\pi_{a0}*\\pi_{a1}**2*p_X - 2*\\pi_{a0}*\\pi_{a1}*p_X + \\pi_{a0}*p_X - \\pi_{a1}*p_X + 2*p_X + 1), p_X*(\\pi_{a0}*\\pi_{a1}**2 - 2*\\pi_{a0}*\\pi_{a1} - \\pi_{a1} + 2)/(\\pi_{a0}*\\pi_{a1}**2*p_X - 2*\\pi_{a0}*\\pi_{a1}*p_X + \\pi_{a0}*p_X - \\pi_{a1}*p_X + 2*p_X + 1), (-\\pi_{a0}*\\pi_{a1}**2*\\pi_{a2}*p_X + \\pi_{a0}*\\pi_{a1}**2*p_X + \\pi_{a0}*\\pi_{a1}*\\pi_{a2}*p_X - \\pi_{a0}*\\pi_{a1}*p_X + \\pi_{a0}*p_X - \\pi_{a0} + \\pi_{a1}*\\pi_{a2}*p_X - \\pi_{a1}*p_X - \\pi_{a2}*p_X + 1)/(\\pi_{a0}*\\pi_{a1}**2*p_X - 2*\\pi_{a0}*\\pi_{a1}*p_X + \\pi_{a0}*p_X - \\pi_{a1}*p_X + 2*p_X + 1)]])"
      ]
     },
     "execution_count": 11,
     "metadata": {},
     "output_type": "execute_result"
    }
   ],
   "source": [
    "import sympy as sym\n",
    "\n",
    "x = sym.Symbol(\"p_X\")\n",
    "a0 = sym.Symbol(\"\\pi_{a0}\")\n",
    "a1 = sym.Symbol(\"\\pi_{a1}\")\n",
    "a2 = sym.Symbol(\"\\pi_{a2}\")\n",
    "\n",
    "\n",
    "ps1 = x / (1+x*(2-a1))\n",
    "ps2 = x*(1-a1) / (1+x*(2-a1))\n",
    "# A|L, A|D, W|L, W|D\n",
    "P = sym.Matrix([[0, a1, 1-a1, 0],\n",
    "    [a0*x, a0*(1-x), (1-a0)*x, (1-a0)*(1-x)],\n",
    "    [0, (ps1*a1+ps2*a2)/(ps1+ps2), ps1*(1-a1)/(ps1+ps2), ps2*(1-a2)/(ps1+ps2)],\n",
    "    [a0*x, a0*(1-x), (1-a0)*x, (1-a0)*(1-x)]])\n",
    "P = sym.simplify(P)\n",
    "MP_stat_dist(P)"
   ]
  },
  {
   "cell_type": "markdown",
   "metadata": {},
   "source": [
    "The simplified probabilities for each state are then as follows (from Mathematica):\n",
    "$$\n",
    "P_{A|L} = \\frac{p_X\\pi_{a0}}{1+p_X(2+\\pi_{a0}(\\pi_{a1}-1)^2-\\pi_{a1})}, \n",
    "$$\n",
    "$$\n",
    "P_{W|L} = \\frac{p_X(\\pi_{a1}-2)(\\pi_{a0}\\pi_{a1}-1)}{1+p_X(2+\\pi_{a0}(\\pi_{a1}-1)^2-\\pi_{a1})}, \n",
    "$$\n",
    "$$\n",
    "P_{A|D} = \\frac{p_X[\\pi_{a0}[\\pi_{a1}(\\pi_{a1}-1)(\\pi_{a2}-1)-1]+\\pi_{a2}(1-\\pi_{a1})+\\pi_{a1}]+\\pi_{a0}}{1+p_X(2+\\pi_{a0} (\\pi_{a1}-1)^2-\\pi_{a1})}, \n",
    "$$\n",
    "$$\n",
    "P_{W|D} = \\frac{p_X[\\pi_{a1}(\\pi_{a2}-1)-\\pi_{a2}]+\\pi_{a0}[p_X[\\pi_{a1}(\\pi_{a2}(1-\\pi_{a1})+\\pi_{a1}-1)+1]-1]+1}{1+p_X(2+\\pi_{a0} (\\pi_{a1}-1)^2-\\pi_{a1})}\n",
    "$$"
   ]
  },
  {
   "cell_type": "markdown",
   "metadata": {},
   "source": [
    "Naively, one might for example think, that the probability to get the state $A|L$ would be the probability to be in $S_0$, then act, and the light turning on, so $P_{S_0}\\pi_{a0}p_X$. \n",
    "$P_{A|L}$ differs from that result by a quadratic expression. (wrong conditional probability?)"
   ]
  },
  {
   "cell_type": "markdown",
   "metadata": {},
   "source": [
    "How do those models obtained from observing parts of the system now represent the whole system, or how do they differ?\n",
    "\n",
    "One can for example look at the block entropies each model generates and check how they differ from the entropy of the real system.\n",
    "Since the systems all tend towards their respective stationary distributions, it suffices to look at their differences in entropy rate:"
   ]
  },
  {
   "cell_type": "markdown",
   "metadata": {},
   "source": [
    "Plot showing difference between entropy rates of MDP and MP1, when varying the dependent probabilities (shows comparability in special scenarios)."
   ]
  },
  {
   "cell_type": "code",
   "execution_count": 12,
   "metadata": {},
   "outputs": [
    {
     "data": {
      "image/png": "[encoded data removed]",
      "text/plain": [
       "<Figure size 500x500 with 1 Axes>"
      ]
     },
     "metadata": {},
     "output_type": "display_data"
    }
   ],
   "source": [
    "# differences in entropy rate\n",
    "x = sym.Symbol(\"p_X\")\n",
    "a1 = sym.Symbol(\"\\pi_{a1}\")\n",
    "h_diff_mdpmp1 = sym.simplify(MP_entropy_rate(stat_mdp, P_mdp) - MP_entropy_rate(stat_mp1, P_mp1))\n",
    "h_diff_mdpmp1_l = sym.lambdify([x, a1], h_diff_mdpmp1, \"numpy\")\n",
    "#print(\"MDP-MP2: \", sym.simplify(MP_entropy_rate(stat_mdp, P_mdp) - MP_entropy_rate(stat_mp2, P_mp2)))\n",
    "\n",
    "fig = plt.figure(figsize = (5, 5))\n",
    "ax = fig.add_subplot(111, projection='3d')\n",
    "valrange = np.linspace(0+1e-16, 1-1e-16, 100)\n",
    "vx, va1 = np.meshgrid(valrange, valrange)\n",
    "#print(h_diff_mdpmp1_l(vx, va1), type(h_diff_mdpmp1_l(vx, va1)))\n",
    "hdiff_res = h_diff_mdpmp1_l(vx, va1)\n",
    "ax.plot_wireframe(vx, va1, hdiff_res, rcount=10, ccount=10)\n",
    "ax.set_xlabel(\"$p_X$\")\n",
    "ax.set_ylabel(\"$\\pi_{a1}$\")\n",
    "ax.set_zlabel(\"$h_{mdp} - h_{mp1}$\")\n",
    "ax.set_box_aspect(None, zoom=0.9)"
   ]
  },
  {
   "cell_type": "markdown",
   "metadata": {},
   "source": [
    "Plot showing the block entropies and estimates/calculations of the entropy rates for [x, a0, a1, a2] = [0.60, 0.5, 0.45, 0.5]"
   ]
  },
  {
   "cell_type": "code",
   "execution_count": 14,
   "metadata": {},
   "outputs": [
    {
     "name": "stdout",
     "output_type": "stream",
     "text": [
      "mdp\n",
      "stat | disc\n",
      "0.811717754843188 | 0.811843210251305\n",
      "[1.58496250072116, 2.23953751686865, 3.03684527424659, 3.90906613133851, 4.68923732399599, 5.49991699240852, 6.32266796463139, 7.12810835756889, 7.93995156782020]\n",
      "mp1\n",
      "stat | disc\n",
      "0.955224804161522 | 0.955224835665234\n",
      "[1.00000000000000, 1.95463297334404, 2.91000287151243, 3.86519210424001, 4.82042562914017, 5.77564829531415, 6.73087362362747, 7.68609829928724, 8.64132313495248]\n",
      "mp2\n",
      "stat | disc\n",
      "0.999302727715816 | 0.999302727715792\n",
      "[1.00000000000000, 1.99930272771582, 2.99860545543163, 3.99790818314745, 4.99721091086326, 5.99651363857908, 6.99581636629490, 7.99511909401069, 8.99442182172648]\n"
     ]
    },
    {
     "data": {
      "image/png": "[encoded data removed]",
      "text/plain": [
       "<Figure size 640x480 with 1 Axes>"
      ]
     },
     "metadata": {},
     "output_type": "display_data"
    }
   ],
   "source": [
    "import numpy as np\n",
    "import sympy as sym\n",
    "import scipy as sp\n",
    "import itertools\n",
    "import matplotlib.pyplot as plt\n",
    "\n",
    "vects = [stat_mdp, stat_mp1, stat_mp2]\n",
    "labels = [\"mdp\", \"mp1\", \"mp2\"]\n",
    "markers = [\"o\", \"^\", \"s\"]\n",
    "Ps = [P_mdp, P_mp1, P_mp2]\n",
    "\n",
    "for n, vect in enumerate(vects):\n",
    "    P_s = Ps[n]\n",
    "    vars = [x, a0, a1, a2]\n",
    "    vals = [0.60, 0.5, 0.45, 0.5]\n",
    "    inits = [[1/3, 1/3, 1/3], [1/2, 1/2], [1/2, 1/2]]\n",
    "\n",
    "    vect = vect.subs({vars[i]:vals[i] for i in range(len(vars))})\n",
    "    P_s = P_s.subs({vars[i]:vals[i] for i in range(len(vars))})\n",
    "\n",
    "    lengths = range(1, 10)\n",
    "\n",
    "    ent_rate = MP_entropy_rate(vect, P_s)\n",
    "    block_ents = [MP_block_entropy(P_s, l, inits[n]) for l in lengths]\n",
    "\n",
    "    print(labels[n])\n",
    "    print(\"stat | disc\")\n",
    "    print(ent_rate, \"|\", block_ents[-1] - block_ents[-2])\n",
    "    print(block_ents)\n",
    "\n",
    "    plt.plot(lengths, block_ents, marker = markers[n], label = labels[n])\n",
    "    if n == 0:\n",
    "        plt.plot(np.arange(1,10), ent_rate*np.arange(1,10)+(block_ents[-1]-ent_rate*9), color = \"grey\", ls = \"--\", label = \"hmdp\")\n",
    "    plt.scatter(lengths, block_ents)\n",
    "# plot entropy rate slope for mdp\n",
    "hmdp = float(MP_entropy_rate(vect, P_s))\n",
    "\n",
    "\n",
    "plt.xlabel(\"Block length\")\n",
    "plt.ylabel(\"Block entropy\")\n",
    "plt.legend()\n",
    "plt.show()"
   ]
  },
  {
   "cell_type": "markdown",
   "metadata": {},
   "source": [
    "Explanation of block entropy plot above:\n",
    "For MDP, MP1 and MP2, the respective entropy rates were calculated analytically (stat) using $ h_\\mu = - \\sum_{ij} \\mu_i P_{ij} \\log P_{ij} $ (coverthomas1999elements).\n",
    "The numerical estimation of the entropy rates was done using block entropies. For this, the probability of any possible block or sequence of length $L$ was calculated by taking the initial probability of the first state of the sequence, here set to be 1/(number of states) (so equal initial probability), and multiplying the transition probability to the next state of the sequence iteratively. This is important, since the given MDP for example is directional. This also means that some invalid sequences, for example S0-S2-S1, result in probability 0, which is why at the end, the probability of all valid sequences has to be renormalized before calculating the entropy of those sequence probabilities.\n",
    "The numerical entropy rate estimate (disc) was taken to be the difference between the block entropies of the two largest computed sequence lengths. "
   ]
  },
  {
   "cell_type": "markdown",
   "metadata": {},
   "source": [
    "One can see, that the entropy rates of MP1 and MP2 are very different from MDP.\n",
    "Actually computing the correct block entropy for a given length gives an even more surprising result (mdp in plot, hmdp is with entropy rate). \n",
    "One can see that the estimated excess entropy of MDP is negative, implying that the system is less random at the beginning.\n",
    "This is also supported by the fact, that the discrete entropy rate estimate of MDP is below the analytical result.\n",
    "This is in contrast to the theory in (crutchfield2001synchronizing), where the entropy rate is overestimated for small sequence lengths (tangent of H(L)).\n",
    "For interpretation, one might say that MDP seems less random at the beginning and increases in randomness with longer sequence lengths."
   ]
  },
  {
   "cell_type": "markdown",
   "metadata": {},
   "source": [
    "<img src=\"crutchfield_block_ent_fig.png\" width=\"400\">  \n",
    "\n",
    "Figure from (crutchfield2001synchronizing), showing the block entropy, here H(L), behaviour for a periodic process."
   ]
  },
  {
   "cell_type": "markdown",
   "metadata": {},
   "source": [
    "An interesting special case:  \n",
    "Since the transition matrix of the MDP does not allow permutations of the light states, the observed block entropy of MP1 would actually be identical to that of MDP, if and only if the starting state is S0.  \n",
    "L = 2, S0:  S0-S1, S0-S0\n",
    "            D-L, D-D  \n",
    "L = 3, S0:  S0-S0-S0, S0-S0-S1, S0-S1-S0, S0-S1-S2\n",
    "            D-D-D, D-D-L, D-L-D, D-L-L  \n",
    "L = 4, S0:  S0-S0-S0-S0, S0-S0-S0-S1, S0-S0-S1-S0, S0-S0-S1-S2, S0-S1-S2-S0\n",
    "            D-D-D-D, D-D-D-L, D-D-L-D, D-D-L-L, D-L-L-D"
   ]
  },
  {
   "cell_type": "markdown",
   "metadata": {},
   "source": [
    "The reason for the mismatch is that in the observed systems of MP1 and MP2, the states of S1 and S2 are not generally separated (holevo2019quantum). Since S1 and S2 are both light states, MP1 can not distinguish between them. This means that MP1 can not accurately describe MDP as a statistical model.\n",
    "MP2 by itself has even less separation between the states of MDP.\n",
    "Any combination of the two, be it for several observations and so on, will always have states that result from two or more distinct states in MDP, which can not be distinguished by the created model.\n"
   ]
  },
  {
   "cell_type": "markdown",
   "metadata": {},
   "source": [
    "Trying to formulate a more concrete reason for this case:  \n",
    "Since for both S1 and S2 of MDP, the decision to wait leads to the same outcome, such a sequence starting in either S1 or S2 can not be distinguished and will thus be seen as one sequence, even though it originated in two different states. This leads to wrong state/sequence probabilities when compared to MDP.  \n",
    "Also, when starting in the dark state, the system is synchronized, when starting in a light state, there are paths which can never synchronize.    "
   ]
  },
  {
   "cell_type": "markdown",
   "metadata": {},
   "source": [
    "How wrong are they though?\n",
    "Idea:  \n",
    "create new model using sequences as states, contribution of superimposed states decreases with number of states,  \n",
    "would have to try predictions of block entropy for L+1 using combinations of probabilities of L, since block-state models would have multiple versions of MDP states due to different paths.  \n",
    "\n",
    "Possible to just use difference in entropy rate estimate from observations of different length?  \n",
    "Rather use mismatch in state distribution and estimate using estimated transition matrix? (estimators in ciuperca2007estimation)\n",
    "\n",
    "In contrast, POMDP solution approaches usually assume that the agent has the correct model, just not complete information about the current state (kaelbling1998pomdp).  \n",
    "Maybe look into other measures instead of entropy, i.e. transfer entropy, mutual information (kim2021infstructures). (Paper from CAS lecture)"
   ]
  },
  {
   "cell_type": "markdown",
   "metadata": {},
   "source": [
    "If an additional observation was also the given reward, it would be possible to separate the system just by observing the light and reward.\n",
    "Also, the observations would actually be sufficient to determine, that the system is not binary, just by observing the light for a length of steps and comparing it to a prediction created by observations of shorter length."
   ]
  },
  {
   "cell_type": "markdown",
   "metadata": {},
   "source": [
    "#### Confidence in distinguishing entropies"
   ]
  },
  {
   "cell_type": "markdown",
   "metadata": {},
   "source": [
    "How accurately can we say, that the entropy of two samples is not identical, given samples of same length L?\n",
    "For example, one can ask how many samples would be needed to be able to say, that two entropy estimates differ from each other by two $\\sigma$ (~95% conf.)."
   ]
  },
  {
   "cell_type": "markdown",
   "metadata": {},
   "source": [
    "For this, we need to know the error of the entropy estimator."
   ]
  },
  {
   "cell_type": "markdown",
   "metadata": {},
   "source": [
    "In general, every estimator has two potential sources of error: estimator bias and variance.\n",
    "The entropy plug-in estimator $\\hat{H}_L(X)$ is negatively biased, meaning that it tends to underestimate the true entropy of a distribution, though this bias decreases with larger sample size.\n",
    "\n",
    "In the case of a Markov process, one has to keep in mind that the state probabilities are not i.i.d., which makes a difference(i.e. covariance).  \n",
    "found papers: (feutrill2021review) (kamath2016estimation)"
   ]
  },
  {
   "cell_type": "markdown",
   "metadata": {},
   "source": [
    "##### t-test approach"
   ]
  },
  {
   "cell_type": "markdown",
   "metadata": {},
   "source": [
    "In general, one can determine the significance of two sample distributions by conducting a two sample t-test (Welch's t-test).\n",
    "For this, one needs to calculate the t-value and degrees of freedom for given samples (NIST_handbook_ttest).\n",
    "\n",
    "Assuming both samples ($ X_1,\\ X_2 $) have the same length $n$, then the t-value can be computed with\n",
    "$$ t = \\frac{\\Delta \\bar{X}}{s_{\\Delta \\bar{X}}} = \\frac{\\bar{X_1} - \\bar{X_2}}{\\sqrt{s_{X_1}^2 + s_{X_2}^2}} = \n",
    "\\frac{\\bar{X_1} - \\bar{X_2}}{\\sqrt{(\\frac{\\sigma_{X_1}}{\\sqrt{n}})^2 + (\\frac{\\sigma_{X_2}}{\\sqrt{n}})^2}} = \n",
    "\\sqrt{n} \\frac{\\bar{X_1} - \\bar{X_2}}{\\sqrt{\\sigma_{X_1}^2 + \\sigma_{X_2}^2}},$$"
   ]
  },
  {
   "cell_type": "markdown",
   "metadata": {},
   "source": [
    "where $s_i$ denotes the standard error, and $\\sigma_i$ the corrected sample standard deviation.  \n",
    "The degrees of freedom $d_f$ for samples of identical length can be computed with\n",
    "$$ d_f = \\frac{s_{\\Delta \\bar{X}}^4}{\\frac{s_{X_ 1}^4 + s_{X_2}^4}{d_{f,X}}} = \\frac{(\\frac{\\sigma_{X_1}^2 + \\sigma_{X_2}^2}{n})^2}{\\frac{\\sigma_{X_1}^4 + \\sigma_{X_2}^4}{n^2(n-1)}} = (n-1)\\frac{(\\sigma_{X_1}^2 + \\sigma_{X_2}^2)^2}{\\sigma_{X_1}^4 + \\sigma_{X_2}^4}, $$\n",
    "\n",
    "where $d_{f,X} = n-1$ denotes the degrees of freedom of the sample variance estimation, which are identical for same length samples."
   ]
  },
  {
   "cell_type": "markdown",
   "metadata": {},
   "source": [
    "For a significant result, we would want $\\Delta \\bar{X} > t_c s_{\\Delta \\bar{X}} \n",
    "\\iff \\bar{X_1} - \\bar{X_2} > t_c \\frac{\\sqrt{\\sigma_{X_1}^2 + \\sigma_{X_2}^2}}{\\sqrt{n}}\n",
    "\\iff \\frac{n}{t_c^2 } >\\frac{\\sigma_{X_1}^2 + \\sigma_{X_2}^2}{(\\bar{X_1} - \\bar{X_2})^2},$\n",
    "\n",
    "where $t_c$ is the critical t-value associated with some desired confidence value and the degrees of freedom $d_f$, which are also dependent on $n$."
   ]
  },
  {
   "cell_type": "markdown",
   "metadata": {},
   "source": [
    "(formula uses sample mean and sd, valid to relate to true mean and sd of population, since known?)"
   ]
  }
 ],
 "metadata": {
  "kernelspec": {
   "display_name": "Python 3",
   "language": "python",
   "name": "python3"
  },
  "language_info": {
   "codemirror_mode": {
    "name": "ipython",
    "version": 3
   },
   "file_extension": ".py",
   "mimetype": "text/x-python",
   "name": "python",
   "nbconvert_exporter": "python",
   "pygments_lexer": "ipython3",
   "version": "3.10.12"
  }
 },
 "nbformat": 4,
 "nbformat_minor": 2
}
